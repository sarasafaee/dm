{
  "nbformat": 4,
  "nbformat_minor": 0,
  "metadata": {
    "colab": {
      "name": "phase2q4q5.ipynb",
      "provenance": [],
      "collapsed_sections": []
    },
    "kernelspec": {
      "name": "python3",
      "display_name": "Python 3"
    },
    "language_info": {
      "name": "python"
    }
  },
  "cells": [
    {
      "cell_type": "code",
      "metadata": {
        "id": "G5xgUD3MymYU"
      },
      "source": [
        "import pandas as pd\n",
        "import numpy as np\n",
        "data_divar = pd.read_csv('/content/drive/MyDrive/Colab Notebooks/divar_posts_dataset.csv')"
      ],
      "execution_count": 18,
      "outputs": []
    },
    {
      "cell_type": "code",
      "metadata": {
        "colab": {
          "base_uri": "https://localhost:8080/"
        },
        "id": "h5WB3mjb1zAV",
        "outputId": "1ba1c298-e38f-42c5-d482-54e6efaf099f"
      },
      "source": [
        "data_divar.isnull().sum()"
      ],
      "execution_count": 19,
      "outputs": [
        {
          "output_type": "execute_result",
          "data": {
            "text/plain": [
              "Unnamed: 0              0\n",
              "archive_by_user         0\n",
              "brand              756743\n",
              "cat1                    0\n",
              "cat2                 1758\n",
              "cat3               172334\n",
              "city                    0\n",
              "created_at              0\n",
              "desc                    0\n",
              "id                      0\n",
              "image_count             0\n",
              "mileage            827184\n",
              "platform                0\n",
              "price                   0\n",
              "title                   0\n",
              "type               849106\n",
              "year               827184\n",
              "dtype: int64"
            ]
          },
          "metadata": {
            "tags": []
          },
          "execution_count": 19
        }
      ]
    },
    {
      "cell_type": "code",
      "metadata": {
        "colab": {
          "base_uri": "https://localhost:8080/"
        },
        "id": "M2id-XB30ygc",
        "outputId": "bfbb463b-1f36-47b2-cfcc-0bd60786b9ed"
      },
      "source": [
        "pip install pyfpgrowth"
      ],
      "execution_count": 10,
      "outputs": [
        {
          "output_type": "stream",
          "text": [
            "Collecting pyfpgrowth\n",
            "\u001b[?25l  Downloading https://files.pythonhosted.org/packages/d2/4c/8b7cd90b4118ff0286d6584909b99e1ca5642bdc9072fa5a8dd361c864a0/pyfpgrowth-1.0.tar.gz (1.6MB)\n",
            "\r\u001b[K     |▏                               | 10kB 14.8MB/s eta 0:00:01\r\u001b[K     |▍                               | 20kB 19.8MB/s eta 0:00:01\r\u001b[K     |▋                               | 30kB 20.8MB/s eta 0:00:01\r\u001b[K     |▉                               | 40kB 21.6MB/s eta 0:00:01\r\u001b[K     |█                               | 51kB 16.9MB/s eta 0:00:01\r\u001b[K     |█▏                              | 61kB 13.2MB/s eta 0:00:01\r\u001b[K     |█▍                              | 71kB 12.1MB/s eta 0:00:01\r\u001b[K     |█▋                              | 81kB 12.9MB/s eta 0:00:01\r\u001b[K     |█▉                              | 92kB 14.0MB/s eta 0:00:01\r\u001b[K     |██                              | 102kB 13.6MB/s eta 0:00:01\r\u001b[K     |██▏                             | 112kB 13.6MB/s eta 0:00:01\r\u001b[K     |██▍                             | 122kB 13.6MB/s eta 0:00:01\r\u001b[K     |██▋                             | 133kB 13.6MB/s eta 0:00:01\r\u001b[K     |██▉                             | 143kB 13.6MB/s eta 0:00:01\r\u001b[K     |███                             | 153kB 13.6MB/s eta 0:00:01\r\u001b[K     |███▏                            | 163kB 13.6MB/s eta 0:00:01\r\u001b[K     |███▍                            | 174kB 13.6MB/s eta 0:00:01\r\u001b[K     |███▋                            | 184kB 13.6MB/s eta 0:00:01\r\u001b[K     |███▉                            | 194kB 13.6MB/s eta 0:00:01\r\u001b[K     |████                            | 204kB 13.6MB/s eta 0:00:01\r\u001b[K     |████▏                           | 215kB 13.6MB/s eta 0:00:01\r\u001b[K     |████▍                           | 225kB 13.6MB/s eta 0:00:01\r\u001b[K     |████▋                           | 235kB 13.6MB/s eta 0:00:01\r\u001b[K     |████▉                           | 245kB 13.6MB/s eta 0:00:01\r\u001b[K     |█████                           | 256kB 13.6MB/s eta 0:00:01\r\u001b[K     |█████▏                          | 266kB 13.6MB/s eta 0:00:01\r\u001b[K     |█████▍                          | 276kB 13.6MB/s eta 0:00:01\r\u001b[K     |█████▋                          | 286kB 13.6MB/s eta 0:00:01\r\u001b[K     |█████▉                          | 296kB 13.6MB/s eta 0:00:01\r\u001b[K     |██████                          | 307kB 13.6MB/s eta 0:00:01\r\u001b[K     |██████▏                         | 317kB 13.6MB/s eta 0:00:01\r\u001b[K     |██████▍                         | 327kB 13.6MB/s eta 0:00:01\r\u001b[K     |██████▋                         | 337kB 13.6MB/s eta 0:00:01\r\u001b[K     |██████▉                         | 348kB 13.6MB/s eta 0:00:01\r\u001b[K     |███████                         | 358kB 13.6MB/s eta 0:00:01\r\u001b[K     |███████▏                        | 368kB 13.6MB/s eta 0:00:01\r\u001b[K     |███████▍                        | 378kB 13.6MB/s eta 0:00:01\r\u001b[K     |███████▋                        | 389kB 13.6MB/s eta 0:00:01\r\u001b[K     |███████▉                        | 399kB 13.6MB/s eta 0:00:01\r\u001b[K     |████████                        | 409kB 13.6MB/s eta 0:00:01\r\u001b[K     |████████▏                       | 419kB 13.6MB/s eta 0:00:01\r\u001b[K     |████████▍                       | 430kB 13.6MB/s eta 0:00:01\r\u001b[K     |████████▋                       | 440kB 13.6MB/s eta 0:00:01\r\u001b[K     |████████▉                       | 450kB 13.6MB/s eta 0:00:01\r\u001b[K     |█████████                       | 460kB 13.6MB/s eta 0:00:01\r\u001b[K     |█████████▏                      | 471kB 13.6MB/s eta 0:00:01\r\u001b[K     |█████████▍                      | 481kB 13.6MB/s eta 0:00:01\r\u001b[K     |█████████▋                      | 491kB 13.6MB/s eta 0:00:01\r\u001b[K     |█████████▉                      | 501kB 13.6MB/s eta 0:00:01\r\u001b[K     |██████████                      | 512kB 13.6MB/s eta 0:00:01\r\u001b[K     |██████████▏                     | 522kB 13.6MB/s eta 0:00:01\r\u001b[K     |██████████▍                     | 532kB 13.6MB/s eta 0:00:01\r\u001b[K     |██████████▋                     | 542kB 13.6MB/s eta 0:00:01\r\u001b[K     |██████████▉                     | 552kB 13.6MB/s eta 0:00:01\r\u001b[K     |███████████                     | 563kB 13.6MB/s eta 0:00:01\r\u001b[K     |███████████▏                    | 573kB 13.6MB/s eta 0:00:01\r\u001b[K     |███████████▍                    | 583kB 13.6MB/s eta 0:00:01\r\u001b[K     |███████████▋                    | 593kB 13.6MB/s eta 0:00:01\r\u001b[K     |███████████▉                    | 604kB 13.6MB/s eta 0:00:01\r\u001b[K     |████████████                    | 614kB 13.6MB/s eta 0:00:01\r\u001b[K     |████████████▏                   | 624kB 13.6MB/s eta 0:00:01\r\u001b[K     |████████████▍                   | 634kB 13.6MB/s eta 0:00:01\r\u001b[K     |████████████▋                   | 645kB 13.6MB/s eta 0:00:01\r\u001b[K     |████████████▊                   | 655kB 13.6MB/s eta 0:00:01\r\u001b[K     |█████████████                   | 665kB 13.6MB/s eta 0:00:01\r\u001b[K     |█████████████▏                  | 675kB 13.6MB/s eta 0:00:01\r\u001b[K     |█████████████▍                  | 686kB 13.6MB/s eta 0:00:01\r\u001b[K     |█████████████▋                  | 696kB 13.6MB/s eta 0:00:01\r\u001b[K     |█████████████▊                  | 706kB 13.6MB/s eta 0:00:01\r\u001b[K     |██████████████                  | 716kB 13.6MB/s eta 0:00:01\r\u001b[K     |██████████████▏                 | 727kB 13.6MB/s eta 0:00:01\r\u001b[K     |██████████████▍                 | 737kB 13.6MB/s eta 0:00:01\r\u001b[K     |██████████████▋                 | 747kB 13.6MB/s eta 0:00:01\r\u001b[K     |██████████████▊                 | 757kB 13.6MB/s eta 0:00:01\r\u001b[K     |███████████████                 | 768kB 13.6MB/s eta 0:00:01\r\u001b[K     |███████████████▏                | 778kB 13.6MB/s eta 0:00:01\r\u001b[K     |███████████████▍                | 788kB 13.6MB/s eta 0:00:01\r\u001b[K     |███████████████▋                | 798kB 13.6MB/s eta 0:00:01\r\u001b[K     |███████████████▊                | 808kB 13.6MB/s eta 0:00:01\r\u001b[K     |████████████████                | 819kB 13.6MB/s eta 0:00:01\r\u001b[K     |████████████████▏               | 829kB 13.6MB/s eta 0:00:01\r\u001b[K     |████████████████▍               | 839kB 13.6MB/s eta 0:00:01\r\u001b[K     |████████████████▋               | 849kB 13.6MB/s eta 0:00:01\r\u001b[K     |████████████████▊               | 860kB 13.6MB/s eta 0:00:01\r\u001b[K     |█████████████████               | 870kB 13.6MB/s eta 0:00:01\r\u001b[K     |█████████████████▏              | 880kB 13.6MB/s eta 0:00:01\r\u001b[K     |█████████████████▍              | 890kB 13.6MB/s eta 0:00:01\r\u001b[K     |█████████████████▋              | 901kB 13.6MB/s eta 0:00:01\r\u001b[K     |█████████████████▊              | 911kB 13.6MB/s eta 0:00:01\r\u001b[K     |██████████████████              | 921kB 13.6MB/s eta 0:00:01\r\u001b[K     |██████████████████▏             | 931kB 13.6MB/s eta 0:00:01\r\u001b[K     |██████████████████▍             | 942kB 13.6MB/s eta 0:00:01\r\u001b[K     |██████████████████▋             | 952kB 13.6MB/s eta 0:00:01\r\u001b[K     |██████████████████▊             | 962kB 13.6MB/s eta 0:00:01\r\u001b[K     |███████████████████             | 972kB 13.6MB/s eta 0:00:01\r\u001b[K     |███████████████████▏            | 983kB 13.6MB/s eta 0:00:01\r\u001b[K     |███████████████████▍            | 993kB 13.6MB/s eta 0:00:01\r\u001b[K     |███████████████████▋            | 1.0MB 13.6MB/s eta 0:00:01\r\u001b[K     |███████████████████▊            | 1.0MB 13.6MB/s eta 0:00:01\r\u001b[K     |████████████████████            | 1.0MB 13.6MB/s eta 0:00:01\r\u001b[K     |████████████████████▏           | 1.0MB 13.6MB/s eta 0:00:01\r\u001b[K     |████████████████████▍           | 1.0MB 13.6MB/s eta 0:00:01\r\u001b[K     |████████████████████▋           | 1.1MB 13.6MB/s eta 0:00:01\r\u001b[K     |████████████████████▊           | 1.1MB 13.6MB/s eta 0:00:01\r\u001b[K     |█████████████████████           | 1.1MB 13.6MB/s eta 0:00:01\r\u001b[K     |█████████████████████▏          | 1.1MB 13.6MB/s eta 0:00:01\r\u001b[K     |█████████████████████▍          | 1.1MB 13.6MB/s eta 0:00:01\r\u001b[K     |█████████████████████▋          | 1.1MB 13.6MB/s eta 0:00:01\r\u001b[K     |█████████████████████▊          | 1.1MB 13.6MB/s eta 0:00:01\r\u001b[K     |██████████████████████          | 1.1MB 13.6MB/s eta 0:00:01\r\u001b[K     |██████████████████████▏         | 1.1MB 13.6MB/s eta 0:00:01\r\u001b[K     |██████████████████████▍         | 1.1MB 13.6MB/s eta 0:00:01\r\u001b[K     |██████████████████████▋         | 1.2MB 13.6MB/s eta 0:00:01\r\u001b[K     |██████████████████████▊         | 1.2MB 13.6MB/s eta 0:00:01\r\u001b[K     |███████████████████████         | 1.2MB 13.6MB/s eta 0:00:01\r\u001b[K     |███████████████████████▏        | 1.2MB 13.6MB/s eta 0:00:01\r\u001b[K     |███████████████████████▍        | 1.2MB 13.6MB/s eta 0:00:01\r\u001b[K     |███████████████████████▋        | 1.2MB 13.6MB/s eta 0:00:01\r\u001b[K     |███████████████████████▊        | 1.2MB 13.6MB/s eta 0:00:01\r\u001b[K     |████████████████████████        | 1.2MB 13.6MB/s eta 0:00:01\r\u001b[K     |████████████████████████▏       | 1.2MB 13.6MB/s eta 0:00:01\r\u001b[K     |████████████████████████▍       | 1.2MB 13.6MB/s eta 0:00:01\r\u001b[K     |████████████████████████▌       | 1.3MB 13.6MB/s eta 0:00:01\r\u001b[K     |████████████████████████▊       | 1.3MB 13.6MB/s eta 0:00:01\r\u001b[K     |█████████████████████████       | 1.3MB 13.6MB/s eta 0:00:01\r\u001b[K     |█████████████████████████▏      | 1.3MB 13.6MB/s eta 0:00:01\r\u001b[K     |█████████████████████████▍      | 1.3MB 13.6MB/s eta 0:00:01\r\u001b[K     |█████████████████████████▌      | 1.3MB 13.6MB/s eta 0:00:01\r\u001b[K     |█████████████████████████▊      | 1.3MB 13.6MB/s eta 0:00:01\r\u001b[K     |██████████████████████████      | 1.3MB 13.6MB/s eta 0:00:01\r\u001b[K     |██████████████████████████▏     | 1.3MB 13.6MB/s eta 0:00:01\r\u001b[K     |██████████████████████████▍     | 1.4MB 13.6MB/s eta 0:00:01\r\u001b[K     |██████████████████████████▌     | 1.4MB 13.6MB/s eta 0:00:01\r\u001b[K     |██████████████████████████▊     | 1.4MB 13.6MB/s eta 0:00:01\r\u001b[K     |███████████████████████████     | 1.4MB 13.6MB/s eta 0:00:01\r\u001b[K     |███████████████████████████▏    | 1.4MB 13.6MB/s eta 0:00:01\r\u001b[K     |███████████████████████████▍    | 1.4MB 13.6MB/s eta 0:00:01\r\u001b[K     |███████████████████████████▌    | 1.4MB 13.6MB/s eta 0:00:01\r\u001b[K     |███████████████████████████▊    | 1.4MB 13.6MB/s eta 0:00:01\r\u001b[K     |████████████████████████████    | 1.4MB 13.6MB/s eta 0:00:01\r\u001b[K     |████████████████████████████▏   | 1.4MB 13.6MB/s eta 0:00:01\r\u001b[K     |████████████████████████████▍   | 1.5MB 13.6MB/s eta 0:00:01\r\u001b[K     |████████████████████████████▌   | 1.5MB 13.6MB/s eta 0:00:01\r\u001b[K     |████████████████████████████▊   | 1.5MB 13.6MB/s eta 0:00:01\r\u001b[K     |█████████████████████████████   | 1.5MB 13.6MB/s eta 0:00:01\r\u001b[K     |█████████████████████████████▏  | 1.5MB 13.6MB/s eta 0:00:01\r\u001b[K     |█████████████████████████████▍  | 1.5MB 13.6MB/s eta 0:00:01\r\u001b[K     |█████████████████████████████▌  | 1.5MB 13.6MB/s eta 0:00:01\r\u001b[K     |█████████████████████████████▊  | 1.5MB 13.6MB/s eta 0:00:01\r\u001b[K     |██████████████████████████████  | 1.5MB 13.6MB/s eta 0:00:01\r\u001b[K     |██████████████████████████████▏ | 1.5MB 13.6MB/s eta 0:00:01\r\u001b[K     |██████████████████████████████▍ | 1.6MB 13.6MB/s eta 0:00:01\r\u001b[K     |██████████████████████████████▌ | 1.6MB 13.6MB/s eta 0:00:01\r\u001b[K     |██████████████████████████████▊ | 1.6MB 13.6MB/s eta 0:00:01\r\u001b[K     |███████████████████████████████ | 1.6MB 13.6MB/s eta 0:00:01\r\u001b[K     |███████████████████████████████▏| 1.6MB 13.6MB/s eta 0:00:01\r\u001b[K     |███████████████████████████████▍| 1.6MB 13.6MB/s eta 0:00:01\r\u001b[K     |███████████████████████████████▌| 1.6MB 13.6MB/s eta 0:00:01\r\u001b[K     |███████████████████████████████▊| 1.6MB 13.6MB/s eta 0:00:01\r\u001b[K     |████████████████████████████████| 1.6MB 13.6MB/s eta 0:00:01\r\u001b[K     |████████████████████████████████| 1.6MB 13.6MB/s \n",
            "\u001b[?25hBuilding wheels for collected packages: pyfpgrowth\n",
            "  Building wheel for pyfpgrowth (setup.py) ... \u001b[?25l\u001b[?25hdone\n",
            "  Created wheel for pyfpgrowth: filename=pyfpgrowth-1.0-py2.py3-none-any.whl size=5504 sha256=4481f49e0e16904d87ae0a6c1ab6ea6cb6deb5e2ff1ebef865e0a5abef20bb27\n",
            "  Stored in directory: /root/.cache/pip/wheels/3b/3f/0d/a04bb8b17887c1eca7d0f1a48d4aa0c09c96eb221ff7fa56c1\n",
            "Successfully built pyfpgrowth\n",
            "Installing collected packages: pyfpgrowth\n",
            "Successfully installed pyfpgrowth-1.0\n"
          ],
          "name": "stdout"
        }
      ]
    },
    {
      "cell_type": "code",
      "metadata": {
        "colab": {
          "base_uri": "https://localhost:8080/",
          "height": 210
        },
        "id": "T1qJMO033cNP",
        "outputId": "280ba8d4-5cc1-4315-9234-1d2defb83afa"
      },
      "source": [
        "data_divar.head(2)"
      ],
      "execution_count": 20,
      "outputs": [
        {
          "output_type": "execute_result",
          "data": {
            "text/html": [
              "<div>\n",
              "<style scoped>\n",
              "    .dataframe tbody tr th:only-of-type {\n",
              "        vertical-align: middle;\n",
              "    }\n",
              "\n",
              "    .dataframe tbody tr th {\n",
              "        vertical-align: top;\n",
              "    }\n",
              "\n",
              "    .dataframe thead th {\n",
              "        text-align: right;\n",
              "    }\n",
              "</style>\n",
              "<table border=\"1\" class=\"dataframe\">\n",
              "  <thead>\n",
              "    <tr style=\"text-align: right;\">\n",
              "      <th></th>\n",
              "      <th>Unnamed: 0</th>\n",
              "      <th>archive_by_user</th>\n",
              "      <th>brand</th>\n",
              "      <th>cat1</th>\n",
              "      <th>cat2</th>\n",
              "      <th>cat3</th>\n",
              "      <th>city</th>\n",
              "      <th>created_at</th>\n",
              "      <th>desc</th>\n",
              "      <th>id</th>\n",
              "      <th>image_count</th>\n",
              "      <th>mileage</th>\n",
              "      <th>platform</th>\n",
              "      <th>price</th>\n",
              "      <th>title</th>\n",
              "      <th>type</th>\n",
              "      <th>year</th>\n",
              "    </tr>\n",
              "  </thead>\n",
              "  <tbody>\n",
              "    <tr>\n",
              "      <th>0</th>\n",
              "      <td>0</td>\n",
              "      <td>False</td>\n",
              "      <td>NaN</td>\n",
              "      <td>for-the-home</td>\n",
              "      <td>furniture-and-home-decore</td>\n",
              "      <td>sofa-armchair</td>\n",
              "      <td>Tehran</td>\n",
              "      <td>Tuesday 07PM</td>\n",
              "      <td>کلاسیک و شیک و استثنایی\\nچرم مالزی\\nچوب راش\\nف...</td>\n",
              "      <td>54761638662241</td>\n",
              "      <td>5</td>\n",
              "      <td>NaN</td>\n",
              "      <td>mobile</td>\n",
              "      <td>3850000</td>\n",
              "      <td>ست مبلمان و نهارخوری ٩ نفره</td>\n",
              "      <td>NaN</td>\n",
              "      <td>NaN</td>\n",
              "    </tr>\n",
              "    <tr>\n",
              "      <th>1</th>\n",
              "      <td>1</td>\n",
              "      <td>False</td>\n",
              "      <td>NaN</td>\n",
              "      <td>for-the-home</td>\n",
              "      <td>furniture-and-home-decore</td>\n",
              "      <td>antiques-and-art</td>\n",
              "      <td>Mashhad</td>\n",
              "      <td>Tuesday 07PM</td>\n",
              "      <td>سلام,یک عدد گلدون نخل سه طبقه ی سالم دارم با پ...</td>\n",
              "      <td>42727631379133</td>\n",
              "      <td>1</td>\n",
              "      <td>NaN</td>\n",
              "      <td>mobile</td>\n",
              "      <td>30000</td>\n",
              "      <td>گلدون مصنوعی نخل</td>\n",
              "      <td>NaN</td>\n",
              "      <td>NaN</td>\n",
              "    </tr>\n",
              "  </tbody>\n",
              "</table>\n",
              "</div>"
            ],
            "text/plain": [
              "   Unnamed: 0  archive_by_user brand  ...                        title type year\n",
              "0           0            False   NaN  ...  ست مبلمان و نهارخوری ٩ نفره  NaN  NaN\n",
              "1           1            False   NaN  ...             گلدون مصنوعی نخل  NaN  NaN\n",
              "\n",
              "[2 rows x 17 columns]"
            ]
          },
          "metadata": {
            "tags": []
          },
          "execution_count": 20
        }
      ]
    },
    {
      "cell_type": "code",
      "metadata": {
        "colab": {
          "base_uri": "https://localhost:8080/",
          "height": 414
        },
        "id": "5OcUsGpB32ag",
        "outputId": "d7c78fac-68d1-45e2-bb7c-64cf04ef6b76"
      },
      "source": [
        "data_divar1=data_divar[['platform','created_at']]\n",
        "data_divar1"
      ],
      "execution_count": 21,
      "outputs": [
        {
          "output_type": "execute_result",
          "data": {
            "text/html": [
              "<div>\n",
              "<style scoped>\n",
              "    .dataframe tbody tr th:only-of-type {\n",
              "        vertical-align: middle;\n",
              "    }\n",
              "\n",
              "    .dataframe tbody tr th {\n",
              "        vertical-align: top;\n",
              "    }\n",
              "\n",
              "    .dataframe thead th {\n",
              "        text-align: right;\n",
              "    }\n",
              "</style>\n",
              "<table border=\"1\" class=\"dataframe\">\n",
              "  <thead>\n",
              "    <tr style=\"text-align: right;\">\n",
              "      <th></th>\n",
              "      <th>platform</th>\n",
              "      <th>created_at</th>\n",
              "    </tr>\n",
              "  </thead>\n",
              "  <tbody>\n",
              "    <tr>\n",
              "      <th>0</th>\n",
              "      <td>mobile</td>\n",
              "      <td>Tuesday 07PM</td>\n",
              "    </tr>\n",
              "    <tr>\n",
              "      <th>1</th>\n",
              "      <td>mobile</td>\n",
              "      <td>Tuesday 07PM</td>\n",
              "    </tr>\n",
              "    <tr>\n",
              "      <th>2</th>\n",
              "      <td>mobile</td>\n",
              "      <td>Tuesday 07PM</td>\n",
              "    </tr>\n",
              "    <tr>\n",
              "      <th>3</th>\n",
              "      <td>mobile</td>\n",
              "      <td>Tuesday 07PM</td>\n",
              "    </tr>\n",
              "    <tr>\n",
              "      <th>4</th>\n",
              "      <td>mobile</td>\n",
              "      <td>Tuesday 08PM</td>\n",
              "    </tr>\n",
              "    <tr>\n",
              "      <th>...</th>\n",
              "      <td>...</td>\n",
              "      <td>...</td>\n",
              "    </tr>\n",
              "    <tr>\n",
              "      <th>947630</th>\n",
              "      <td>web</td>\n",
              "      <td>Friday 07AM</td>\n",
              "    </tr>\n",
              "    <tr>\n",
              "      <th>947631</th>\n",
              "      <td>mobile</td>\n",
              "      <td>Friday 02PM</td>\n",
              "    </tr>\n",
              "    <tr>\n",
              "      <th>947632</th>\n",
              "      <td>mobile</td>\n",
              "      <td>Friday 04PM</td>\n",
              "    </tr>\n",
              "    <tr>\n",
              "      <th>947633</th>\n",
              "      <td>mobile</td>\n",
              "      <td>Friday 05PM</td>\n",
              "    </tr>\n",
              "    <tr>\n",
              "      <th>947634</th>\n",
              "      <td>mobile</td>\n",
              "      <td>Friday 05PM</td>\n",
              "    </tr>\n",
              "  </tbody>\n",
              "</table>\n",
              "<p>947635 rows × 2 columns</p>\n",
              "</div>"
            ],
            "text/plain": [
              "       platform    created_at\n",
              "0        mobile  Tuesday 07PM\n",
              "1        mobile  Tuesday 07PM\n",
              "2        mobile  Tuesday 07PM\n",
              "3        mobile  Tuesday 07PM\n",
              "4        mobile  Tuesday 08PM\n",
              "...         ...           ...\n",
              "947630      web   Friday 07AM\n",
              "947631   mobile   Friday 02PM\n",
              "947632   mobile   Friday 04PM\n",
              "947633   mobile   Friday 05PM\n",
              "947634   mobile   Friday 05PM\n",
              "\n",
              "[947635 rows x 2 columns]"
            ]
          },
          "metadata": {
            "tags": []
          },
          "execution_count": 21
        }
      ]
    },
    {
      "cell_type": "code",
      "metadata": {
        "colab": {
          "base_uri": "https://localhost:8080/",
          "height": 308
        },
        "id": "czTxLc2Y3OWr",
        "outputId": "4c3c7e8a-a810-4070-c100-259248aed41e"
      },
      "source": [
        "publ_day=[]\n",
        "for p in data_divar1['created_at']:\n",
        "  publ_day.append(p.split(' ')[0])\n",
        "data_divar1['publ_day']=publ_day\n",
        "data_divar2=data_divar1[['platform','publ_day']]\n",
        "data_divar2.head(5)"
      ],
      "execution_count": 24,
      "outputs": [
        {
          "output_type": "stream",
          "text": [
            "/usr/local/lib/python3.7/dist-packages/ipykernel_launcher.py:4: SettingWithCopyWarning: \n",
            "A value is trying to be set on a copy of a slice from a DataFrame.\n",
            "Try using .loc[row_indexer,col_indexer] = value instead\n",
            "\n",
            "See the caveats in the documentation: https://pandas.pydata.org/pandas-docs/stable/user_guide/indexing.html#returning-a-view-versus-a-copy\n",
            "  after removing the cwd from sys.path.\n"
          ],
          "name": "stderr"
        },
        {
          "output_type": "execute_result",
          "data": {
            "text/html": [
              "<div>\n",
              "<style scoped>\n",
              "    .dataframe tbody tr th:only-of-type {\n",
              "        vertical-align: middle;\n",
              "    }\n",
              "\n",
              "    .dataframe tbody tr th {\n",
              "        vertical-align: top;\n",
              "    }\n",
              "\n",
              "    .dataframe thead th {\n",
              "        text-align: right;\n",
              "    }\n",
              "</style>\n",
              "<table border=\"1\" class=\"dataframe\">\n",
              "  <thead>\n",
              "    <tr style=\"text-align: right;\">\n",
              "      <th></th>\n",
              "      <th>platform</th>\n",
              "      <th>publ_day</th>\n",
              "    </tr>\n",
              "  </thead>\n",
              "  <tbody>\n",
              "    <tr>\n",
              "      <th>0</th>\n",
              "      <td>mobile</td>\n",
              "      <td>Tuesday</td>\n",
              "    </tr>\n",
              "    <tr>\n",
              "      <th>1</th>\n",
              "      <td>mobile</td>\n",
              "      <td>Tuesday</td>\n",
              "    </tr>\n",
              "    <tr>\n",
              "      <th>2</th>\n",
              "      <td>mobile</td>\n",
              "      <td>Tuesday</td>\n",
              "    </tr>\n",
              "    <tr>\n",
              "      <th>3</th>\n",
              "      <td>mobile</td>\n",
              "      <td>Tuesday</td>\n",
              "    </tr>\n",
              "    <tr>\n",
              "      <th>4</th>\n",
              "      <td>mobile</td>\n",
              "      <td>Tuesday</td>\n",
              "    </tr>\n",
              "  </tbody>\n",
              "</table>\n",
              "</div>"
            ],
            "text/plain": [
              "  platform publ_day\n",
              "0   mobile  Tuesday\n",
              "1   mobile  Tuesday\n",
              "2   mobile  Tuesday\n",
              "3   mobile  Tuesday\n",
              "4   mobile  Tuesday"
            ]
          },
          "metadata": {
            "tags": []
          },
          "execution_count": 24
        }
      ]
    },
    {
      "cell_type": "code",
      "metadata": {
        "id": "wF4xIZ0t_Pfr"
      },
      "source": [
        "def unique(list1):\n",
        "    # intilize a null list\n",
        "    unique_list = []\n",
        "    # traverse for all elements\n",
        "    for x in list1:\n",
        "        # check if exists in unique_list or not\n",
        "        if x not in unique_list:\n",
        "            unique_list.append(x)\n",
        "    return unique_list"
      ],
      "execution_count": 25,
      "outputs": []
    },
    {
      "cell_type": "code",
      "metadata": {
        "colab": {
          "base_uri": "https://localhost:8080/"
        },
        "id": "qnOuO7Mp6ccN",
        "outputId": "3c41e628-f948-4b9c-b0b0-0787c0b49630"
      },
      "source": [
        "grouped = data_divar2.groupby(by=\"publ_day\")\n",
        "transactions = []\n",
        "grouped.filter(lambda x: (transactions.append(unique(x['platform'].to_list())) if x.shape[0] >= 2 else True))\n",
        "transactions[0:5]"
      ],
      "execution_count": 45,
      "outputs": [
        {
          "output_type": "execute_result",
          "data": {
            "text/plain": [
              "[['mobile', 'web'],\n",
              " ['mobile', 'web'],\n",
              " ['mobile', 'web'],\n",
              " ['mobile', 'web'],\n",
              " ['mobile', 'web']]"
            ]
          },
          "metadata": {
            "tags": []
          },
          "execution_count": 45
        }
      ]
    },
    {
      "cell_type": "code",
      "metadata": {
        "id": "Oa_uhdGH7cEG"
      },
      "source": [
        "import pyfpgrowth\n",
        "# freqItemSet, rules = fpgrowth(transactions, minSupRatio=0.01, minConf=0.01)\n",
        "\n",
        "patterns = pyfpgrowth.find_frequent_patterns(transactions,2)\n",
        "rules = pyfpgrowth. generate_association_rules(patterns,0.1)"
      ],
      "execution_count": 46,
      "outputs": []
    },
    {
      "cell_type": "code",
      "metadata": {
        "colab": {
          "base_uri": "https://localhost:8080/"
        },
        "id": "jHXEla___zFG",
        "outputId": "1d938eb9-8dd5-4933-bc13-5b1e3b05b2f7"
      },
      "source": [
        "patterns"
      ],
      "execution_count": 47,
      "outputs": [
        {
          "output_type": "execute_result",
          "data": {
            "text/plain": [
              "{('mobile',): 7, ('mobile', 'web'): 7, ('web',): 7}"
            ]
          },
          "metadata": {
            "tags": []
          },
          "execution_count": 47
        }
      ]
    },
    {
      "cell_type": "code",
      "metadata": {
        "id": "w_MrH3RN_9q4",
        "colab": {
          "base_uri": "https://localhost:8080/"
        },
        "outputId": "d3843502-41dd-4501-dc3a-1b6c6e3e0d0f"
      },
      "source": [
        "rules"
      ],
      "execution_count": 48,
      "outputs": [
        {
          "output_type": "execute_result",
          "data": {
            "text/plain": [
              "{('mobile',): (('web',), 1.0), ('web',): (('mobile',), 1.0)}"
            ]
          },
          "metadata": {
            "tags": []
          },
          "execution_count": 48
        }
      ]
    },
    {
      "cell_type": "code",
      "metadata": {
        "colab": {
          "base_uri": "https://localhost:8080/",
          "height": 202
        },
        "id": "deak4MFq8nvm",
        "outputId": "a16b9927-286b-4b79-eb5e-1ea280f7a4ab"
      },
      "source": [
        "data_divar['product']=data_divar.apply(lambda x:'%s_%s_%s' % (x['cat1'],x['cat2'],x['cat3']),axis=1)\n",
        "data_divar4=data_divar[['platform','product']]\n",
        "data_divar4.head(5)"
      ],
      "execution_count": 49,
      "outputs": [
        {
          "output_type": "execute_result",
          "data": {
            "text/html": [
              "<div>\n",
              "<style scoped>\n",
              "    .dataframe tbody tr th:only-of-type {\n",
              "        vertical-align: middle;\n",
              "    }\n",
              "\n",
              "    .dataframe tbody tr th {\n",
              "        vertical-align: top;\n",
              "    }\n",
              "\n",
              "    .dataframe thead th {\n",
              "        text-align: right;\n",
              "    }\n",
              "</style>\n",
              "<table border=\"1\" class=\"dataframe\">\n",
              "  <thead>\n",
              "    <tr style=\"text-align: right;\">\n",
              "      <th></th>\n",
              "      <th>platform</th>\n",
              "      <th>product</th>\n",
              "    </tr>\n",
              "  </thead>\n",
              "  <tbody>\n",
              "    <tr>\n",
              "      <th>0</th>\n",
              "      <td>mobile</td>\n",
              "      <td>for-the-home_furniture-and-home-decore_sofa-ar...</td>\n",
              "    </tr>\n",
              "    <tr>\n",
              "      <th>1</th>\n",
              "      <td>mobile</td>\n",
              "      <td>for-the-home_furniture-and-home-decore_antique...</td>\n",
              "    </tr>\n",
              "    <tr>\n",
              "      <th>2</th>\n",
              "      <td>mobile</td>\n",
              "      <td>vehicles_cars_heavy</td>\n",
              "    </tr>\n",
              "    <tr>\n",
              "      <th>3</th>\n",
              "      <td>mobile</td>\n",
              "      <td>for-the-home_furniture-and-home-decore_sofa-ar...</td>\n",
              "    </tr>\n",
              "    <tr>\n",
              "      <th>4</th>\n",
              "      <td>mobile</td>\n",
              "      <td>personal_baby-and-toys_personal-toys</td>\n",
              "    </tr>\n",
              "  </tbody>\n",
              "</table>\n",
              "</div>"
            ],
            "text/plain": [
              "  platform                                            product\n",
              "0   mobile  for-the-home_furniture-and-home-decore_sofa-ar...\n",
              "1   mobile  for-the-home_furniture-and-home-decore_antique...\n",
              "2   mobile                                vehicles_cars_heavy\n",
              "3   mobile  for-the-home_furniture-and-home-decore_sofa-ar...\n",
              "4   mobile               personal_baby-and-toys_personal-toys"
            ]
          },
          "metadata": {
            "tags": []
          },
          "execution_count": 49
        }
      ]
    },
    {
      "cell_type": "code",
      "metadata": {
        "colab": {
          "base_uri": "https://localhost:8080/"
        },
        "id": "f2YnnyYG9XLA",
        "outputId": "d6020398-07d0-4f07-f9b4-f6060abb8b8c"
      },
      "source": [
        "grouped2 = data_divar4.groupby(by=\"product\")\n",
        "transactions2 = []\n",
        "grouped2.filter(lambda x: (transactions2.append(unique(x['platform'].to_list())) if x.shape[0] >= 2 else True))\n",
        "transactions2[0:5]"
      ],
      "execution_count": 50,
      "outputs": [
        {
          "output_type": "execute_result",
          "data": {
            "text/plain": [
              "[['mobile', 'web'],\n",
              " ['mobile', 'web'],\n",
              " ['mobile', 'web'],\n",
              " ['mobile', 'web'],\n",
              " ['mobile', 'web']]"
            ]
          },
          "metadata": {
            "tags": []
          },
          "execution_count": 50
        }
      ]
    },
    {
      "cell_type": "code",
      "metadata": {
        "id": "xjYovtb0-Ek5"
      },
      "source": [
        "import pyfpgrowth\n",
        "# freqItemSet, rules = fpgrowth(transactions, minSupRatio=0.01, minConf=0.01)\n",
        "\n",
        "patterns2 = pyfpgrowth.find_frequent_patterns(transactions2,1)\n",
        "rules2 = pyfpgrowth. generate_association_rules(patterns2,0.0001)"
      ],
      "execution_count": 51,
      "outputs": []
    },
    {
      "cell_type": "code",
      "metadata": {
        "colab": {
          "base_uri": "https://localhost:8080/"
        },
        "id": "Osi6tmJL-csX",
        "outputId": "bf5a8aae-cc51-4352-aab9-d5efbca8ac74"
      },
      "source": [
        "patterns2"
      ],
      "execution_count": 52,
      "outputs": [
        {
          "output_type": "execute_result",
          "data": {
            "text/plain": [
              "{('mobile',): 87, ('mobile', 'web'): 87, ('web',): 87}"
            ]
          },
          "metadata": {
            "tags": []
          },
          "execution_count": 52
        }
      ]
    },
    {
      "cell_type": "code",
      "metadata": {
        "colab": {
          "base_uri": "https://localhost:8080/"
        },
        "id": "sBiIIxqZ-gD0",
        "outputId": "b5b384bf-f005-4bf7-e1c3-f54ebbe31932"
      },
      "source": [
        "rules2"
      ],
      "execution_count": 53,
      "outputs": [
        {
          "output_type": "execute_result",
          "data": {
            "text/plain": [
              "{('mobile',): (('web',), 1.0), ('web',): (('mobile',), 1.0)}"
            ]
          },
          "metadata": {
            "tags": []
          },
          "execution_count": 53
        }
      ]
    }
  ]
}