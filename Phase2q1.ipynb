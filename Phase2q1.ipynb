{
  "nbformat": 4,
  "nbformat_minor": 0,
  "metadata": {
    "colab": {
      "name": "Phase2q1.ipynb",
      "provenance": [],
      "collapsed_sections": []
    },
    "kernelspec": {
      "name": "python3",
      "display_name": "Python 3"
    },
    "language_info": {
      "name": "python"
    }
  },
  "cells": [
    {
      "cell_type": "code",
      "metadata": {
        "id": "ner5hy_6vQVa"
      },
      "source": [
        "import pandas as pd\n",
        "import numpy as np\n",
        "data_divar = pd.read_csv('/content/drive/MyDrive/Colab Notebooks/divar_posts_dataset.csv')"
      ],
      "execution_count": 25,
      "outputs": []
    },
    {
      "cell_type": "code",
      "metadata": {
        "colab": {
          "base_uri": "https://localhost:8080/",
          "height": 210
        },
        "id": "pN5k4WLJwdmj",
        "outputId": "8111ee24-b3bb-4899-c360-27f21129cbf9"
      },
      "source": [
        "data_divar.head(2)"
      ],
      "execution_count": 26,
      "outputs": [
        {
          "output_type": "execute_result",
          "data": {
            "text/html": [
              "<div>\n",
              "<style scoped>\n",
              "    .dataframe tbody tr th:only-of-type {\n",
              "        vertical-align: middle;\n",
              "    }\n",
              "\n",
              "    .dataframe tbody tr th {\n",
              "        vertical-align: top;\n",
              "    }\n",
              "\n",
              "    .dataframe thead th {\n",
              "        text-align: right;\n",
              "    }\n",
              "</style>\n",
              "<table border=\"1\" class=\"dataframe\">\n",
              "  <thead>\n",
              "    <tr style=\"text-align: right;\">\n",
              "      <th></th>\n",
              "      <th>Unnamed: 0</th>\n",
              "      <th>archive_by_user</th>\n",
              "      <th>brand</th>\n",
              "      <th>cat1</th>\n",
              "      <th>cat2</th>\n",
              "      <th>cat3</th>\n",
              "      <th>city</th>\n",
              "      <th>created_at</th>\n",
              "      <th>desc</th>\n",
              "      <th>id</th>\n",
              "      <th>image_count</th>\n",
              "      <th>mileage</th>\n",
              "      <th>platform</th>\n",
              "      <th>price</th>\n",
              "      <th>title</th>\n",
              "      <th>type</th>\n",
              "      <th>year</th>\n",
              "    </tr>\n",
              "  </thead>\n",
              "  <tbody>\n",
              "    <tr>\n",
              "      <th>0</th>\n",
              "      <td>0</td>\n",
              "      <td>False</td>\n",
              "      <td>NaN</td>\n",
              "      <td>for-the-home</td>\n",
              "      <td>furniture-and-home-decore</td>\n",
              "      <td>sofa-armchair</td>\n",
              "      <td>Tehran</td>\n",
              "      <td>Tuesday 07PM</td>\n",
              "      <td>کلاسیک و شیک و استثنایی\\nچرم مالزی\\nچوب راش\\nف...</td>\n",
              "      <td>54761638662241</td>\n",
              "      <td>5</td>\n",
              "      <td>NaN</td>\n",
              "      <td>mobile</td>\n",
              "      <td>3850000</td>\n",
              "      <td>ست مبلمان و نهارخوری ٩ نفره</td>\n",
              "      <td>NaN</td>\n",
              "      <td>NaN</td>\n",
              "    </tr>\n",
              "    <tr>\n",
              "      <th>1</th>\n",
              "      <td>1</td>\n",
              "      <td>False</td>\n",
              "      <td>NaN</td>\n",
              "      <td>for-the-home</td>\n",
              "      <td>furniture-and-home-decore</td>\n",
              "      <td>antiques-and-art</td>\n",
              "      <td>Mashhad</td>\n",
              "      <td>Tuesday 07PM</td>\n",
              "      <td>سلام,یک عدد گلدون نخل سه طبقه ی سالم دارم با پ...</td>\n",
              "      <td>42727631379133</td>\n",
              "      <td>1</td>\n",
              "      <td>NaN</td>\n",
              "      <td>mobile</td>\n",
              "      <td>30000</td>\n",
              "      <td>گلدون مصنوعی نخل</td>\n",
              "      <td>NaN</td>\n",
              "      <td>NaN</td>\n",
              "    </tr>\n",
              "  </tbody>\n",
              "</table>\n",
              "</div>"
            ],
            "text/plain": [
              "   Unnamed: 0  archive_by_user brand  ...                        title type year\n",
              "0           0            False   NaN  ...  ست مبلمان و نهارخوری ٩ نفره  NaN  NaN\n",
              "1           1            False   NaN  ...             گلدون مصنوعی نخل  NaN  NaN\n",
              "\n",
              "[2 rows x 17 columns]"
            ]
          },
          "metadata": {
            "tags": []
          },
          "execution_count": 26
        }
      ]
    },
    {
      "cell_type": "code",
      "metadata": {
        "id": "R9Mhfhu_1MXG"
      },
      "source": [
        "data_divar['product']=data_divar.apply(lambda x:'%s_%s_%s' % (x['cat1'],x['cat2'],x['cat3']),axis=1)\n"
      ],
      "execution_count": 27,
      "outputs": []
    },
    {
      "cell_type": "code",
      "metadata": {
        "id": "ZBR0n20iAvYZ"
      },
      "source": [
        "data_divar['Q']=1"
      ],
      "execution_count": 28,
      "outputs": []
    },
    {
      "cell_type": "code",
      "metadata": {
        "colab": {
          "base_uri": "https://localhost:8080/",
          "height": 202
        },
        "id": "xlO7DND51e_6",
        "outputId": "7669d90a-df8c-44f1-b46c-d7cccee625f1"
      },
      "source": [
        "data_divar=data_divar[['city','product','Q']]\n",
        "data_divar.head()"
      ],
      "execution_count": 30,
      "outputs": [
        {
          "output_type": "execute_result",
          "data": {
            "text/html": [
              "<div>\n",
              "<style scoped>\n",
              "    .dataframe tbody tr th:only-of-type {\n",
              "        vertical-align: middle;\n",
              "    }\n",
              "\n",
              "    .dataframe tbody tr th {\n",
              "        vertical-align: top;\n",
              "    }\n",
              "\n",
              "    .dataframe thead th {\n",
              "        text-align: right;\n",
              "    }\n",
              "</style>\n",
              "<table border=\"1\" class=\"dataframe\">\n",
              "  <thead>\n",
              "    <tr style=\"text-align: right;\">\n",
              "      <th></th>\n",
              "      <th>city</th>\n",
              "      <th>product</th>\n",
              "      <th>Q</th>\n",
              "    </tr>\n",
              "  </thead>\n",
              "  <tbody>\n",
              "    <tr>\n",
              "      <th>0</th>\n",
              "      <td>Tehran</td>\n",
              "      <td>for-the-home_furniture-and-home-decore_sofa-ar...</td>\n",
              "      <td>1</td>\n",
              "    </tr>\n",
              "    <tr>\n",
              "      <th>1</th>\n",
              "      <td>Mashhad</td>\n",
              "      <td>for-the-home_furniture-and-home-decore_antique...</td>\n",
              "      <td>1</td>\n",
              "    </tr>\n",
              "    <tr>\n",
              "      <th>2</th>\n",
              "      <td>Mashhad</td>\n",
              "      <td>vehicles_cars_heavy</td>\n",
              "      <td>1</td>\n",
              "    </tr>\n",
              "    <tr>\n",
              "      <th>3</th>\n",
              "      <td>Tehran</td>\n",
              "      <td>for-the-home_furniture-and-home-decore_sofa-ar...</td>\n",
              "      <td>1</td>\n",
              "    </tr>\n",
              "    <tr>\n",
              "      <th>4</th>\n",
              "      <td>Karaj</td>\n",
              "      <td>personal_baby-and-toys_personal-toys</td>\n",
              "      <td>1</td>\n",
              "    </tr>\n",
              "  </tbody>\n",
              "</table>\n",
              "</div>"
            ],
            "text/plain": [
              "      city                                            product  Q\n",
              "0   Tehran  for-the-home_furniture-and-home-decore_sofa-ar...  1\n",
              "1  Mashhad  for-the-home_furniture-and-home-decore_antique...  1\n",
              "2  Mashhad                                vehicles_cars_heavy  1\n",
              "3   Tehran  for-the-home_furniture-and-home-decore_sofa-ar...  1\n",
              "4    Karaj               personal_baby-and-toys_personal-toys  1"
            ]
          },
          "metadata": {
            "tags": []
          },
          "execution_count": 30
        }
      ]
    },
    {
      "cell_type": "code",
      "metadata": {
        "colab": {
          "base_uri": "https://localhost:8080/"
        },
        "id": "nXyOVKV96OEs",
        "outputId": "e8c3d3c1-6bea-4e9f-f2e2-38edc01b9d22"
      },
      "source": [
        "pip install fpgrowth_py"
      ],
      "execution_count": 40,
      "outputs": [
        {
          "output_type": "stream",
          "text": [
            "Collecting fpgrowth_py\n",
            "  Downloading https://files.pythonhosted.org/packages/18/51/e0cc561ab4a1079c1fad85a43bfa1a95fbe1f4f27c866d12b4d79f95b1ac/fpgrowth_py-1.0.0-py3-none-any.whl\n",
            "Installing collected packages: fpgrowth-py\n",
            "Successfully installed fpgrowth-py-1.0.0\n"
          ],
          "name": "stdout"
        }
      ]
    },
    {
      "cell_type": "code",
      "metadata": {
        "colab": {
          "base_uri": "https://localhost:8080/"
        },
        "id": "YBd_HeMd6W_B",
        "outputId": "2cb235a3-59b0-4192-a3a6-5edc9d7fb5d7"
      },
      "source": [
        "pip install pyfpgrowth"
      ],
      "execution_count": 42,
      "outputs": [
        {
          "output_type": "stream",
          "text": [
            "Collecting pyfpgrowth\n",
            "\u001b[?25l  Downloading https://files.pythonhosted.org/packages/d2/4c/8b7cd90b4118ff0286d6584909b99e1ca5642bdc9072fa5a8dd361c864a0/pyfpgrowth-1.0.tar.gz (1.6MB)\n",
            "\u001b[K     |████████████████████████████████| 1.6MB 8.7MB/s \n",
            "\u001b[?25hBuilding wheels for collected packages: pyfpgrowth\n",
            "  Building wheel for pyfpgrowth (setup.py) ... \u001b[?25l\u001b[?25hdone\n",
            "  Created wheel for pyfpgrowth: filename=pyfpgrowth-1.0-py2.py3-none-any.whl size=5504 sha256=81f13e93023e8af233771f668fe36bfc0e55414324c35680d95cfefb0fb49892\n",
            "  Stored in directory: /root/.cache/pip/wheels/3b/3f/0d/a04bb8b17887c1eca7d0f1a48d4aa0c09c96eb221ff7fa56c1\n",
            "Successfully built pyfpgrowth\n",
            "Installing collected packages: pyfpgrowth\n",
            "Successfully installed pyfpgrowth-1.0\n"
          ],
          "name": "stdout"
        }
      ]
    },
    {
      "cell_type": "code",
      "metadata": {
        "id": "l3dcEjO1vxEZ"
      },
      "source": [
        "def unique(list1):\n",
        "    # intilize a null list\n",
        "    unique_list = []\n",
        "    # traverse for all elements\n",
        "    for x in list1:\n",
        "        # check if exists in unique_list or not\n",
        "        if x not in unique_list:\n",
        "            unique_list.append(x)\n",
        "    return unique_list"
      ],
      "execution_count": 46,
      "outputs": []
    },
    {
      "cell_type": "code",
      "metadata": {
        "colab": {
          "base_uri": "https://localhost:8080/"
        },
        "id": "yux1MNWpuNxJ",
        "outputId": "a7a46e6c-8544-4072-da56-1be64df8f9f9"
      },
      "source": [
        "grouped = data_divar.groupby(by=\"product\")\n",
        "transactions = []\n",
        "grouped.filter(lambda x: (transactions.append(unique(x['city'].to_list())) if x.shape[0] >= 2 else True))\n",
        "transactions[0:5]"
      ],
      "execution_count": 63,
      "outputs": [
        {
          "output_type": "execute_result",
          "data": {
            "text/plain": [
              "[['Tehran',\n",
              "  'Shiraz',\n",
              "  'Mashhad',\n",
              "  'Isfahan',\n",
              "  'Karaj',\n",
              "  'Tabriz',\n",
              "  'Ahvaz',\n",
              "  'Kermanshah',\n",
              "  'Qom'],\n",
              " ['Mashhad', 'Tehran', 'Karaj'],\n",
              " ['Isfahan', 'Tehran', 'Karaj', 'Mashhad', 'Shiraz'],\n",
              " ['Tabriz',\n",
              "  'Tehran',\n",
              "  'Isfahan',\n",
              "  'Shiraz',\n",
              "  'Karaj',\n",
              "  'Qom',\n",
              "  'Mashhad',\n",
              "  'Kermanshah',\n",
              "  'Ahvaz'],\n",
              " ['Tehran']]"
            ]
          },
          "metadata": {
            "tags": []
          },
          "execution_count": 63
        }
      ]
    },
    {
      "cell_type": "code",
      "metadata": {
        "colab": {
          "base_uri": "https://localhost:8080/"
        },
        "id": "PGAomaJmux_y",
        "outputId": "9b3519c1-0cf5-48ff-b752-298309b389f7"
      },
      "source": [
        "import pyfpgrowth\n",
        "from fpgrowth_py import fpgrowth\n",
        "\n",
        "patterns = pyfpgrowth.find_frequent_patterns(transactions, 50)\n",
        "rules = pyfpgrowth. generate_association_rules(patterns,0.99)\n",
        "print('frequent patterns:')\n",
        "print(patterns)\n",
        "print('rules:')\n",
        "rules"
      ],
      "execution_count": 66,
      "outputs": [
        {
          "output_type": "stream",
          "text": [
            "frequent patterns:\n",
            "{('Shiraz',): 51, ('Mashhad', 'Shiraz'): 51, ('Shiraz', 'Tehran'): 51, ('Mashhad', 'Shiraz', 'Tehran'): 51, ('Karaj',): 52, ('Karaj', 'Mashhad'): 52, ('Karaj', 'Tehran'): 52, ('Karaj', 'Mashhad', 'Tehran'): 52, ('Mashhad',): 59, ('Mashhad', 'Tehran'): 59, ('Tehran',): 87}\n",
            "rules:\n"
          ],
          "name": "stdout"
        },
        {
          "output_type": "execute_result",
          "data": {
            "text/plain": [
              "{('Karaj',): (('Mashhad', 'Tehran'), 1.0),\n",
              " ('Karaj', 'Mashhad'): (('Tehran',), 1.0),\n",
              " ('Karaj', 'Tehran'): (('Mashhad',), 1.0),\n",
              " ('Mashhad',): (('Tehran',), 1.0),\n",
              " ('Mashhad', 'Shiraz'): (('Tehran',), 1.0),\n",
              " ('Shiraz',): (('Mashhad', 'Tehran'), 1.0),\n",
              " ('Shiraz', 'Tehran'): (('Mashhad',), 1.0)}"
            ]
          },
          "metadata": {
            "tags": []
          },
          "execution_count": 66
        }
      ]
    },
    {
      "cell_type": "code",
      "metadata": {
        "id": "kQIgRzPz6GOx"
      },
      "source": [
        "basket = (data_divar.groupby(['city', 'product'])['Q']\n",
        "          .sum().unstack().reset_index().fillna(0)\n",
        "          .set_index('city'))\n",
        "basket"
      ],
      "execution_count": null,
      "outputs": []
    },
    {
      "cell_type": "code",
      "metadata": {
        "id": "YbtXWAKFBbQn"
      },
      "source": [
        "def encode_units(x):\n",
        "    if x <= 0:\n",
        "        return 0\n",
        "    if x >= 1:\n",
        "        return 1\n",
        "basket_sets = basket.applymap(encode_units)\n",
        "basket_sets"
      ],
      "execution_count": null,
      "outputs": []
    },
    {
      "cell_type": "code",
      "metadata": {
        "id": "Sxn0js-_CL2U"
      },
      "source": [
        "from mlxtend.frequent_patterns import apriori\n",
        "from mlxtend.frequent_patterns import association_rules\n",
        "frequent_itemsets = apriori(basket_sets, min_support=0.88, use_colnames=True)\n",
        "rules = association_rules(frequent_itemsets, metric=\"lift\", min_threshold=1)\n",
        "rules.head()"
      ],
      "execution_count": null,
      "outputs": []
    }
  ]
}