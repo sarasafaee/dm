{
  "nbformat": 4,
  "nbformat_minor": 0,
  "metadata": {
    "colab": {
      "name": "phase2q4.ipynb",
      "provenance": [],
      "collapsed_sections": []
    },
    "kernelspec": {
      "name": "python3",
      "display_name": "Python 3"
    },
    "language_info": {
      "name": "python"
    }
  },
  "cells": [
    {
      "cell_type": "code",
      "metadata": {
        "id": "G5xgUD3MymYU"
      },
      "source": [
        "import pandas as pd\n",
        "import numpy as np\n",
        "data_divar = pd.read_csv('/content/drive/MyDrive/Colab Notebooks/divar_posts_dataset.csv')"
      ],
      "execution_count": 2,
      "outputs": []
    },
    {
      "cell_type": "code",
      "metadata": {
        "colab": {
          "base_uri": "https://localhost:8080/"
        },
        "id": "h5WB3mjb1zAV",
        "outputId": "23324ffa-1eef-4840-fd72-8c514311ed8e"
      },
      "source": [
        "data_divar.isnull().sum()"
      ],
      "execution_count": 3,
      "outputs": [
        {
          "output_type": "execute_result",
          "data": {
            "text/plain": [
              "Unnamed: 0              0\n",
              "archive_by_user         0\n",
              "brand              756743\n",
              "cat1                    0\n",
              "cat2                 1758\n",
              "cat3               172334\n",
              "city                    0\n",
              "created_at              0\n",
              "desc                    0\n",
              "id                      0\n",
              "image_count             0\n",
              "mileage            827184\n",
              "platform                0\n",
              "price                   0\n",
              "title                   0\n",
              "type               849106\n",
              "year               827184\n",
              "dtype: int64"
            ]
          },
          "metadata": {
            "tags": []
          },
          "execution_count": 3
        }
      ]
    },
    {
      "cell_type": "code",
      "metadata": {
        "colab": {
          "base_uri": "https://localhost:8080/"
        },
        "id": "M2id-XB30ygc",
        "outputId": "c853b688-2a6e-4a5f-ead2-1aa660fcfa2d"
      },
      "source": [
        "pip install pyfpgrowth"
      ],
      "execution_count": 9,
      "outputs": [
        {
          "output_type": "stream",
          "text": [
            "Collecting pyfpgrowth\n",
            "\u001b[?25l  Downloading https://files.pythonhosted.org/packages/d2/4c/8b7cd90b4118ff0286d6584909b99e1ca5642bdc9072fa5a8dd361c864a0/pyfpgrowth-1.0.tar.gz (1.6MB)\n",
            "\u001b[K     |████████████████████████████████| 1.6MB 23.1MB/s \n",
            "\u001b[?25hBuilding wheels for collected packages: pyfpgrowth\n",
            "  Building wheel for pyfpgrowth (setup.py) ... \u001b[?25l\u001b[?25hdone\n",
            "  Created wheel for pyfpgrowth: filename=pyfpgrowth-1.0-py2.py3-none-any.whl size=5504 sha256=cf290b60ae8ebb6fffa3d6b3e7e2aeacbe83f0658173b447aaa1cecceb5dc682\n",
            "  Stored in directory: /root/.cache/pip/wheels/3b/3f/0d/a04bb8b17887c1eca7d0f1a48d4aa0c09c96eb221ff7fa56c1\n",
            "Successfully built pyfpgrowth\n",
            "Installing collected packages: pyfpgrowth\n",
            "Successfully installed pyfpgrowth-1.0\n"
          ],
          "name": "stdout"
        }
      ]
    },
    {
      "cell_type": "code",
      "metadata": {
        "colab": {
          "base_uri": "https://localhost:8080/",
          "height": 243
        },
        "id": "T1qJMO033cNP",
        "outputId": "fcd22d35-a63d-4cb4-c15b-836229cff398"
      },
      "source": [
        "data_divar.head(2)"
      ],
      "execution_count": 52,
      "outputs": [
        {
          "output_type": "execute_result",
          "data": {
            "text/html": [
              "<div>\n",
              "<style scoped>\n",
              "    .dataframe tbody tr th:only-of-type {\n",
              "        vertical-align: middle;\n",
              "    }\n",
              "\n",
              "    .dataframe tbody tr th {\n",
              "        vertical-align: top;\n",
              "    }\n",
              "\n",
              "    .dataframe thead th {\n",
              "        text-align: right;\n",
              "    }\n",
              "</style>\n",
              "<table border=\"1\" class=\"dataframe\">\n",
              "  <thead>\n",
              "    <tr style=\"text-align: right;\">\n",
              "      <th></th>\n",
              "      <th>Unnamed: 0</th>\n",
              "      <th>archive_by_user</th>\n",
              "      <th>brand</th>\n",
              "      <th>cat1</th>\n",
              "      <th>cat2</th>\n",
              "      <th>cat3</th>\n",
              "      <th>city</th>\n",
              "      <th>created_at</th>\n",
              "      <th>desc</th>\n",
              "      <th>id</th>\n",
              "      <th>image_count</th>\n",
              "      <th>mileage</th>\n",
              "      <th>platform</th>\n",
              "      <th>price</th>\n",
              "      <th>title</th>\n",
              "      <th>type</th>\n",
              "      <th>year</th>\n",
              "      <th>publ_day</th>\n",
              "    </tr>\n",
              "  </thead>\n",
              "  <tbody>\n",
              "    <tr>\n",
              "      <th>0</th>\n",
              "      <td>0</td>\n",
              "      <td>False</td>\n",
              "      <td>NaN</td>\n",
              "      <td>for-the-home</td>\n",
              "      <td>furniture-and-home-decore</td>\n",
              "      <td>sofa-armchair</td>\n",
              "      <td>Tehran</td>\n",
              "      <td>Tuesday 07PM</td>\n",
              "      <td>کلاسیک و شیک و استثنایی\\nچرم مالزی\\nچوب راش\\nف...</td>\n",
              "      <td>54761638662241</td>\n",
              "      <td>5</td>\n",
              "      <td>NaN</td>\n",
              "      <td>mobile</td>\n",
              "      <td>3850000</td>\n",
              "      <td>ست مبلمان و نهارخوری ٩ نفره</td>\n",
              "      <td>NaN</td>\n",
              "      <td>NaN</td>\n",
              "      <td>Tuesday</td>\n",
              "    </tr>\n",
              "    <tr>\n",
              "      <th>1</th>\n",
              "      <td>1</td>\n",
              "      <td>False</td>\n",
              "      <td>NaN</td>\n",
              "      <td>for-the-home</td>\n",
              "      <td>furniture-and-home-decore</td>\n",
              "      <td>antiques-and-art</td>\n",
              "      <td>Mashhad</td>\n",
              "      <td>Tuesday 07PM</td>\n",
              "      <td>سلام,یک عدد گلدون نخل سه طبقه ی سالم دارم با پ...</td>\n",
              "      <td>42727631379133</td>\n",
              "      <td>1</td>\n",
              "      <td>NaN</td>\n",
              "      <td>mobile</td>\n",
              "      <td>30000</td>\n",
              "      <td>گلدون مصنوعی نخل</td>\n",
              "      <td>NaN</td>\n",
              "      <td>NaN</td>\n",
              "      <td>Tuesday</td>\n",
              "    </tr>\n",
              "  </tbody>\n",
              "</table>\n",
              "</div>"
            ],
            "text/plain": [
              "   Unnamed: 0  archive_by_user brand  ... type year publ_day\n",
              "0           0            False   NaN  ...  NaN  NaN  Tuesday\n",
              "1           1            False   NaN  ...  NaN  NaN  Tuesday\n",
              "\n",
              "[2 rows x 18 columns]"
            ]
          },
          "metadata": {
            "tags": []
          },
          "execution_count": 52
        }
      ]
    },
    {
      "cell_type": "code",
      "metadata": {
        "colab": {
          "base_uri": "https://localhost:8080/",
          "height": 414
        },
        "id": "5OcUsGpB32ag",
        "outputId": "58f209d9-ca6d-48da-e9d7-c30797e10bd1"
      },
      "source": [
        "data_divar1=data_divar[['platform','created_at']]\n",
        "data_divar1"
      ],
      "execution_count": 4,
      "outputs": [
        {
          "output_type": "execute_result",
          "data": {
            "text/html": [
              "<div>\n",
              "<style scoped>\n",
              "    .dataframe tbody tr th:only-of-type {\n",
              "        vertical-align: middle;\n",
              "    }\n",
              "\n",
              "    .dataframe tbody tr th {\n",
              "        vertical-align: top;\n",
              "    }\n",
              "\n",
              "    .dataframe thead th {\n",
              "        text-align: right;\n",
              "    }\n",
              "</style>\n",
              "<table border=\"1\" class=\"dataframe\">\n",
              "  <thead>\n",
              "    <tr style=\"text-align: right;\">\n",
              "      <th></th>\n",
              "      <th>platform</th>\n",
              "      <th>created_at</th>\n",
              "    </tr>\n",
              "  </thead>\n",
              "  <tbody>\n",
              "    <tr>\n",
              "      <th>0</th>\n",
              "      <td>mobile</td>\n",
              "      <td>Tuesday 07PM</td>\n",
              "    </tr>\n",
              "    <tr>\n",
              "      <th>1</th>\n",
              "      <td>mobile</td>\n",
              "      <td>Tuesday 07PM</td>\n",
              "    </tr>\n",
              "    <tr>\n",
              "      <th>2</th>\n",
              "      <td>mobile</td>\n",
              "      <td>Tuesday 07PM</td>\n",
              "    </tr>\n",
              "    <tr>\n",
              "      <th>3</th>\n",
              "      <td>mobile</td>\n",
              "      <td>Tuesday 07PM</td>\n",
              "    </tr>\n",
              "    <tr>\n",
              "      <th>4</th>\n",
              "      <td>mobile</td>\n",
              "      <td>Tuesday 08PM</td>\n",
              "    </tr>\n",
              "    <tr>\n",
              "      <th>...</th>\n",
              "      <td>...</td>\n",
              "      <td>...</td>\n",
              "    </tr>\n",
              "    <tr>\n",
              "      <th>947630</th>\n",
              "      <td>web</td>\n",
              "      <td>Friday 07AM</td>\n",
              "    </tr>\n",
              "    <tr>\n",
              "      <th>947631</th>\n",
              "      <td>mobile</td>\n",
              "      <td>Friday 02PM</td>\n",
              "    </tr>\n",
              "    <tr>\n",
              "      <th>947632</th>\n",
              "      <td>mobile</td>\n",
              "      <td>Friday 04PM</td>\n",
              "    </tr>\n",
              "    <tr>\n",
              "      <th>947633</th>\n",
              "      <td>mobile</td>\n",
              "      <td>Friday 05PM</td>\n",
              "    </tr>\n",
              "    <tr>\n",
              "      <th>947634</th>\n",
              "      <td>mobile</td>\n",
              "      <td>Friday 05PM</td>\n",
              "    </tr>\n",
              "  </tbody>\n",
              "</table>\n",
              "<p>947635 rows × 2 columns</p>\n",
              "</div>"
            ],
            "text/plain": [
              "       platform    created_at\n",
              "0        mobile  Tuesday 07PM\n",
              "1        mobile  Tuesday 07PM\n",
              "2        mobile  Tuesday 07PM\n",
              "3        mobile  Tuesday 07PM\n",
              "4        mobile  Tuesday 08PM\n",
              "...         ...           ...\n",
              "947630      web   Friday 07AM\n",
              "947631   mobile   Friday 02PM\n",
              "947632   mobile   Friday 04PM\n",
              "947633   mobile   Friday 05PM\n",
              "947634   mobile   Friday 05PM\n",
              "\n",
              "[947635 rows x 2 columns]"
            ]
          },
          "metadata": {
            "tags": []
          },
          "execution_count": 4
        }
      ]
    },
    {
      "cell_type": "code",
      "metadata": {
        "colab": {
          "base_uri": "https://localhost:8080/",
          "height": 202
        },
        "id": "czTxLc2Y3OWr",
        "outputId": "9e736867-14dd-4b9b-948f-9cfc219781c8"
      },
      "source": [
        "publ_day=[]\n",
        "for p in data_divar1['created_at']:\n",
        "  publ_day.append(p.split(' ')[0])\n",
        "data_divar2=data_divar[['platform','publ_day']]\n",
        "data_divar2.head(5)"
      ],
      "execution_count": 47,
      "outputs": [
        {
          "output_type": "execute_result",
          "data": {
            "text/html": [
              "<div>\n",
              "<style scoped>\n",
              "    .dataframe tbody tr th:only-of-type {\n",
              "        vertical-align: middle;\n",
              "    }\n",
              "\n",
              "    .dataframe tbody tr th {\n",
              "        vertical-align: top;\n",
              "    }\n",
              "\n",
              "    .dataframe thead th {\n",
              "        text-align: right;\n",
              "    }\n",
              "</style>\n",
              "<table border=\"1\" class=\"dataframe\">\n",
              "  <thead>\n",
              "    <tr style=\"text-align: right;\">\n",
              "      <th></th>\n",
              "      <th>platform</th>\n",
              "      <th>publ_day</th>\n",
              "    </tr>\n",
              "  </thead>\n",
              "  <tbody>\n",
              "    <tr>\n",
              "      <th>0</th>\n",
              "      <td>mobile</td>\n",
              "      <td>Tuesday</td>\n",
              "    </tr>\n",
              "    <tr>\n",
              "      <th>1</th>\n",
              "      <td>mobile</td>\n",
              "      <td>Tuesday</td>\n",
              "    </tr>\n",
              "    <tr>\n",
              "      <th>2</th>\n",
              "      <td>mobile</td>\n",
              "      <td>Tuesday</td>\n",
              "    </tr>\n",
              "    <tr>\n",
              "      <th>3</th>\n",
              "      <td>mobile</td>\n",
              "      <td>Tuesday</td>\n",
              "    </tr>\n",
              "    <tr>\n",
              "      <th>4</th>\n",
              "      <td>mobile</td>\n",
              "      <td>Tuesday</td>\n",
              "    </tr>\n",
              "  </tbody>\n",
              "</table>\n",
              "</div>"
            ],
            "text/plain": [
              "  platform publ_day\n",
              "0   mobile  Tuesday\n",
              "1   mobile  Tuesday\n",
              "2   mobile  Tuesday\n",
              "3   mobile  Tuesday\n",
              "4   mobile  Tuesday"
            ]
          },
          "metadata": {
            "tags": []
          },
          "execution_count": 47
        }
      ]
    },
    {
      "cell_type": "code",
      "metadata": {
        "id": "wF4xIZ0t_Pfr"
      },
      "source": [
        "def unique(list1):\n",
        "    # intilize a null list\n",
        "    unique_list = []\n",
        "    # traverse for all elements\n",
        "    for x in list1:\n",
        "        # check if exists in unique_list or not\n",
        "        if x not in unique_list:\n",
        "            unique_list.append(x)\n",
        "    return unique_list"
      ],
      "execution_count": 30,
      "outputs": []
    },
    {
      "cell_type": "code",
      "metadata": {
        "colab": {
          "base_uri": "https://localhost:8080/"
        },
        "id": "qnOuO7Mp6ccN",
        "outputId": "35a34737-a545-416e-bbdb-99435a99675f"
      },
      "source": [
        "grouped = data_divar2.groupby(by=\"publ_day\")\n",
        "transactions = []\n",
        "grouped.filter(lambda x: (transactions.append(unique(x['platform'].to_list())) if x.shape[0] >= 2 else True))\n",
        "transactions[0:5]"
      ],
      "execution_count": 48,
      "outputs": [
        {
          "output_type": "execute_result",
          "data": {
            "text/plain": [
              "[['mobile', 'web'],\n",
              " ['mobile', 'web'],\n",
              " ['mobile', 'web'],\n",
              " ['mobile', 'web'],\n",
              " ['mobile', 'web']]"
            ]
          },
          "metadata": {
            "tags": []
          },
          "execution_count": 48
        }
      ]
    },
    {
      "cell_type": "code",
      "metadata": {
        "id": "Oa_uhdGH7cEG"
      },
      "source": [
        "import pyfpgrowth\n",
        "# freqItemSet, rules = fpgrowth(transactions, minSupRatio=0.01, minConf=0.01)\n",
        "\n",
        "patterns = pyfpgrowth.find_frequent_patterns(transactions,1)\n",
        "rules = pyfpgrowth. generate_association_rules(patterns,0.0001)"
      ],
      "execution_count": 49,
      "outputs": []
    },
    {
      "cell_type": "code",
      "metadata": {
        "colab": {
          "base_uri": "https://localhost:8080/"
        },
        "id": "jHXEla___zFG",
        "outputId": "60366ca5-1b19-4d24-91ee-dc0eaec2a6bf"
      },
      "source": [
        "patterns"
      ],
      "execution_count": 50,
      "outputs": [
        {
          "output_type": "execute_result",
          "data": {
            "text/plain": [
              "{('mobile',): 7, ('mobile', 'web'): 7, ('web',): 7}"
            ]
          },
          "metadata": {
            "tags": []
          },
          "execution_count": 50
        }
      ]
    },
    {
      "cell_type": "code",
      "metadata": {
        "id": "w_MrH3RN_9q4",
        "colab": {
          "base_uri": "https://localhost:8080/"
        },
        "outputId": "76cb7ca9-bf04-4529-af1d-c0380f16410d"
      },
      "source": [
        "rules"
      ],
      "execution_count": 51,
      "outputs": [
        {
          "output_type": "execute_result",
          "data": {
            "text/plain": [
              "{('mobile',): (('web',), 1.0), ('web',): (('mobile',), 1.0)}"
            ]
          },
          "metadata": {
            "tags": []
          },
          "execution_count": 51
        }
      ]
    }
  ]
}