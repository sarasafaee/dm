{
 "cells": [
  {
   "cell_type": "code",
   "execution_count": 7,
   "metadata": {},
   "outputs": [],
   "source": [
    "import pandas as pd\n",
    "import numpy as np\n",
    "data = pd.read_csv('divar_posts_dataset.csv')"
   ]
  },
  {
   "cell_type": "markdown",
   "metadata": {},
   "source": [
    "![green-divider](https://user-images.githubusercontent.com/7065401/52071924-c003ad80-2562-11e9-8297-1c6595f8a7ff.png)\n",
    "\n",
    "**investigating dataset**\n"
   ]
  },
  {
   "cell_type": "code",
   "execution_count": 8,
   "metadata": {},
   "outputs": [
    {
     "data": {
      "text/html": [
       "<div>\n",
       "<style scoped>\n",
       "    .dataframe tbody tr th:only-of-type {\n",
       "        vertical-align: middle;\n",
       "    }\n",
       "\n",
       "    .dataframe tbody tr th {\n",
       "        vertical-align: top;\n",
       "    }\n",
       "\n",
       "    .dataframe thead th {\n",
       "        text-align: right;\n",
       "    }\n",
       "</style>\n",
       "<table border=\"1\" class=\"dataframe\">\n",
       "  <thead>\n",
       "    <tr style=\"text-align: right;\">\n",
       "      <th></th>\n",
       "      <th>Unnamed: 0</th>\n",
       "      <th>archive_by_user</th>\n",
       "      <th>brand</th>\n",
       "      <th>cat1</th>\n",
       "      <th>cat2</th>\n",
       "      <th>cat3</th>\n",
       "      <th>city</th>\n",
       "      <th>created_at</th>\n",
       "      <th>desc</th>\n",
       "      <th>id</th>\n",
       "      <th>image_count</th>\n",
       "      <th>mileage</th>\n",
       "      <th>platform</th>\n",
       "      <th>price</th>\n",
       "      <th>title</th>\n",
       "      <th>type</th>\n",
       "      <th>year</th>\n",
       "    </tr>\n",
       "  </thead>\n",
       "  <tbody>\n",
       "    <tr>\n",
       "      <th>0</th>\n",
       "      <td>0</td>\n",
       "      <td>False</td>\n",
       "      <td>NaN</td>\n",
       "      <td>for-the-home</td>\n",
       "      <td>furniture-and-home-decore</td>\n",
       "      <td>sofa-armchair</td>\n",
       "      <td>Tehran</td>\n",
       "      <td>Tuesday 07PM</td>\n",
       "      <td>کلاسیک و شیک و استثنایی\\nچرم مالزی\\nچوب راش\\nف...</td>\n",
       "      <td>54761638662241</td>\n",
       "      <td>5</td>\n",
       "      <td>NaN</td>\n",
       "      <td>mobile</td>\n",
       "      <td>3850000</td>\n",
       "      <td>ست مبلمان و نهارخوری ٩ نفره</td>\n",
       "      <td>NaN</td>\n",
       "      <td>NaN</td>\n",
       "    </tr>\n",
       "    <tr>\n",
       "      <th>1</th>\n",
       "      <td>1</td>\n",
       "      <td>False</td>\n",
       "      <td>NaN</td>\n",
       "      <td>for-the-home</td>\n",
       "      <td>furniture-and-home-decore</td>\n",
       "      <td>antiques-and-art</td>\n",
       "      <td>Mashhad</td>\n",
       "      <td>Tuesday 07PM</td>\n",
       "      <td>سلام,یک عدد گلدون نخل سه طبقه ی سالم دارم با پ...</td>\n",
       "      <td>42727631379133</td>\n",
       "      <td>1</td>\n",
       "      <td>NaN</td>\n",
       "      <td>mobile</td>\n",
       "      <td>30000</td>\n",
       "      <td>گلدون مصنوعی نخل</td>\n",
       "      <td>NaN</td>\n",
       "      <td>NaN</td>\n",
       "    </tr>\n",
       "    <tr>\n",
       "      <th>2</th>\n",
       "      <td>2</td>\n",
       "      <td>False</td>\n",
       "      <td>NaN</td>\n",
       "      <td>vehicles</td>\n",
       "      <td>cars</td>\n",
       "      <td>heavy</td>\n",
       "      <td>Mashhad</td>\n",
       "      <td>Tuesday 07PM</td>\n",
       "      <td>سریال 43j$NUMبدون شکستگی سه حلقه لاستیک نو یک ...</td>\n",
       "      <td>63194439667302</td>\n",
       "      <td>4</td>\n",
       "      <td>NaN</td>\n",
       "      <td>mobile</td>\n",
       "      <td>-1</td>\n",
       "      <td>لودر کاتر پیلار 950</td>\n",
       "      <td>NaN</td>\n",
       "      <td>NaN</td>\n",
       "    </tr>\n",
       "    <tr>\n",
       "      <th>3</th>\n",
       "      <td>3</td>\n",
       "      <td>False</td>\n",
       "      <td>NaN</td>\n",
       "      <td>for-the-home</td>\n",
       "      <td>furniture-and-home-decore</td>\n",
       "      <td>sofa-armchair</td>\n",
       "      <td>Tehran</td>\n",
       "      <td>Tuesday 07PM</td>\n",
       "      <td>مبل راحتی هفت نفره شامل سه نفره یک عدد دونفره ...</td>\n",
       "      <td>19133025491169</td>\n",
       "      <td>4</td>\n",
       "      <td>NaN</td>\n",
       "      <td>mobile</td>\n",
       "      <td>600000</td>\n",
       "      <td>مبل راحتی هفت نفره بامیز جلو مبلی</td>\n",
       "      <td>NaN</td>\n",
       "      <td>NaN</td>\n",
       "    </tr>\n",
       "    <tr>\n",
       "      <th>4</th>\n",
       "      <td>4</td>\n",
       "      <td>False</td>\n",
       "      <td>NaN</td>\n",
       "      <td>personal</td>\n",
       "      <td>baby-and-toys</td>\n",
       "      <td>personal-toys</td>\n",
       "      <td>Karaj</td>\n",
       "      <td>Tuesday 08PM</td>\n",
       "      <td>شارژی کنترلی سویچ حمل تا 35 کیلو صندلی برای دو...</td>\n",
       "      <td>58998998335444</td>\n",
       "      <td>2</td>\n",
       "      <td>NaN</td>\n",
       "      <td>mobile</td>\n",
       "      <td>450000</td>\n",
       "      <td>ماشین شارژی</td>\n",
       "      <td>NaN</td>\n",
       "      <td>NaN</td>\n",
       "    </tr>\n",
       "  </tbody>\n",
       "</table>\n",
       "</div>"
      ],
      "text/plain": [
       "   Unnamed: 0  archive_by_user brand          cat1                       cat2  \\\n",
       "0           0            False   NaN  for-the-home  furniture-and-home-decore   \n",
       "1           1            False   NaN  for-the-home  furniture-and-home-decore   \n",
       "2           2            False   NaN      vehicles                       cars   \n",
       "3           3            False   NaN  for-the-home  furniture-and-home-decore   \n",
       "4           4            False   NaN      personal              baby-and-toys   \n",
       "\n",
       "               cat3     city    created_at  \\\n",
       "0     sofa-armchair   Tehran  Tuesday 07PM   \n",
       "1  antiques-and-art  Mashhad  Tuesday 07PM   \n",
       "2             heavy  Mashhad  Tuesday 07PM   \n",
       "3     sofa-armchair   Tehran  Tuesday 07PM   \n",
       "4     personal-toys    Karaj  Tuesday 08PM   \n",
       "\n",
       "                                                desc              id  \\\n",
       "0  کلاسیک و شیک و استثنایی\\nچرم مالزی\\nچوب راش\\nف...  54761638662241   \n",
       "1  سلام,یک عدد گلدون نخل سه طبقه ی سالم دارم با پ...  42727631379133   \n",
       "2  سریال 43j$NUMبدون شکستگی سه حلقه لاستیک نو یک ...  63194439667302   \n",
       "3  مبل راحتی هفت نفره شامل سه نفره یک عدد دونفره ...  19133025491169   \n",
       "4  شارژی کنترلی سویچ حمل تا 35 کیلو صندلی برای دو...  58998998335444   \n",
       "\n",
       "   image_count  mileage platform    price                              title  \\\n",
       "0            5      NaN   mobile  3850000        ست مبلمان و نهارخوری ٩ نفره   \n",
       "1            1      NaN   mobile    30000                   گلدون مصنوعی نخل   \n",
       "2            4      NaN   mobile       -1                لودر کاتر پیلار 950   \n",
       "3            4      NaN   mobile   600000  مبل راحتی هفت نفره بامیز جلو مبلی   \n",
       "4            2      NaN   mobile   450000                        ماشین شارژی   \n",
       "\n",
       "  type year  \n",
       "0  NaN  NaN  \n",
       "1  NaN  NaN  \n",
       "2  NaN  NaN  \n",
       "3  NaN  NaN  \n",
       "4  NaN  NaN  "
      ]
     },
     "execution_count": 8,
     "metadata": {},
     "output_type": "execute_result"
    }
   ],
   "source": [
    "# first five records\n",
    "data.head()"
   ]
  },
  {
   "cell_type": "code",
   "execution_count": 9,
   "metadata": {},
   "outputs": [
    {
     "name": "stdout",
     "output_type": "stream",
     "text": [
      "<class 'pandas.core.frame.DataFrame'>\n",
      "RangeIndex: 947635 entries, 0 to 947634\n",
      "Data columns (total 17 columns):\n",
      " #   Column           Non-Null Count   Dtype  \n",
      "---  ------           --------------   -----  \n",
      " 0   Unnamed: 0       947635 non-null  int64  \n",
      " 1   archive_by_user  947635 non-null  bool   \n",
      " 2   brand            190892 non-null  object \n",
      " 3   cat1             947635 non-null  object \n",
      " 4   cat2             945877 non-null  object \n",
      " 5   cat3             775301 non-null  object \n",
      " 6   city             947635 non-null  object \n",
      " 7   created_at       947635 non-null  object \n",
      " 8   desc             947635 non-null  object \n",
      " 9   id               947635 non-null  int64  \n",
      " 10  image_count      947635 non-null  int64  \n",
      " 11  mileage          120451 non-null  float64\n",
      " 12  platform         947635 non-null  object \n",
      " 13  price            947635 non-null  int64  \n",
      " 14  title            947635 non-null  object \n",
      " 15  type             98529 non-null   object \n",
      " 16  year             120451 non-null  object \n",
      "dtypes: bool(1), float64(1), int64(4), object(11)\n",
      "memory usage: 76.8+ MB\n"
     ]
    }
   ],
   "source": [
    "# information about columns and type of them and ...\n",
    "data.info()"
   ]
  },
  {
   "cell_type": "code",
   "execution_count": 10,
   "metadata": {},
   "outputs": [
    {
     "data": {
      "text/html": [
       "<div>\n",
       "<style scoped>\n",
       "    .dataframe tbody tr th:only-of-type {\n",
       "        vertical-align: middle;\n",
       "    }\n",
       "\n",
       "    .dataframe tbody tr th {\n",
       "        vertical-align: top;\n",
       "    }\n",
       "\n",
       "    .dataframe thead th {\n",
       "        text-align: right;\n",
       "    }\n",
       "</style>\n",
       "<table border=\"1\" class=\"dataframe\">\n",
       "  <thead>\n",
       "    <tr style=\"text-align: right;\">\n",
       "      <th></th>\n",
       "      <th>Unnamed: 0</th>\n",
       "      <th>id</th>\n",
       "      <th>image_count</th>\n",
       "      <th>mileage</th>\n",
       "      <th>price</th>\n",
       "    </tr>\n",
       "  </thead>\n",
       "  <tbody>\n",
       "    <tr>\n",
       "      <th>count</th>\n",
       "      <td>947635.000000</td>\n",
       "      <td>9.476350e+05</td>\n",
       "      <td>947635.000000</td>\n",
       "      <td>120451.000000</td>\n",
       "      <td>9.476350e+05</td>\n",
       "    </tr>\n",
       "    <tr>\n",
       "      <th>mean</th>\n",
       "      <td>473817.000000</td>\n",
       "      <td>3.363293e+13</td>\n",
       "      <td>1.785852</td>\n",
       "      <td>100862.291944</td>\n",
       "      <td>3.398462e+06</td>\n",
       "    </tr>\n",
       "    <tr>\n",
       "      <th>std</th>\n",
       "      <td>273558.805509</td>\n",
       "      <td>1.944109e+13</td>\n",
       "      <td>1.127712</td>\n",
       "      <td>98368.470916</td>\n",
       "      <td>1.371741e+07</td>\n",
       "    </tr>\n",
       "    <tr>\n",
       "      <th>min</th>\n",
       "      <td>0.000000</td>\n",
       "      <td>5.950553e+07</td>\n",
       "      <td>0.000000</td>\n",
       "      <td>0.000000</td>\n",
       "      <td>-1.000000e+00</td>\n",
       "    </tr>\n",
       "    <tr>\n",
       "      <th>25%</th>\n",
       "      <td>236908.500000</td>\n",
       "      <td>1.677974e+13</td>\n",
       "      <td>1.000000</td>\n",
       "      <td>19000.000000</td>\n",
       "      <td>3.000000e+04</td>\n",
       "    </tr>\n",
       "    <tr>\n",
       "      <th>50%</th>\n",
       "      <td>473817.000000</td>\n",
       "      <td>3.362242e+13</td>\n",
       "      <td>2.000000</td>\n",
       "      <td>75000.000000</td>\n",
       "      <td>1.500000e+05</td>\n",
       "    </tr>\n",
       "    <tr>\n",
       "      <th>75%</th>\n",
       "      <td>710725.500000</td>\n",
       "      <td>5.049560e+13</td>\n",
       "      <td>2.000000</td>\n",
       "      <td>160000.000000</td>\n",
       "      <td>6.000000e+05</td>\n",
       "    </tr>\n",
       "    <tr>\n",
       "      <th>max</th>\n",
       "      <td>947634.000000</td>\n",
       "      <td>6.728036e+13</td>\n",
       "      <td>16.000000</td>\n",
       "      <td>500000.000000</td>\n",
       "      <td>4.000000e+08</td>\n",
       "    </tr>\n",
       "  </tbody>\n",
       "</table>\n",
       "</div>"
      ],
      "text/plain": [
       "          Unnamed: 0            id    image_count        mileage         price\n",
       "count  947635.000000  9.476350e+05  947635.000000  120451.000000  9.476350e+05\n",
       "mean   473817.000000  3.363293e+13       1.785852  100862.291944  3.398462e+06\n",
       "std    273558.805509  1.944109e+13       1.127712   98368.470916  1.371741e+07\n",
       "min         0.000000  5.950553e+07       0.000000       0.000000 -1.000000e+00\n",
       "25%    236908.500000  1.677974e+13       1.000000   19000.000000  3.000000e+04\n",
       "50%    473817.000000  3.362242e+13       2.000000   75000.000000  1.500000e+05\n",
       "75%    710725.500000  5.049560e+13       2.000000  160000.000000  6.000000e+05\n",
       "max    947634.000000  6.728036e+13      16.000000  500000.000000  4.000000e+08"
      ]
     },
     "execution_count": 10,
     "metadata": {},
     "output_type": "execute_result"
    }
   ],
   "source": [
    "data.describe()"
   ]
  },
  {
   "cell_type": "code",
   "execution_count": 11,
   "metadata": {},
   "outputs": [
    {
     "data": {
      "text/plain": [
       "<AxesSubplot:>"
      ]
     },
     "execution_count": 11,
     "metadata": {},
     "output_type": "execute_result"
    },
    {
     "data": {
      "image/png": "[encoded data removed]",
      "text/plain": [
       "<Figure size 432x288 with 1 Axes>"
      ]
     },
     "metadata": {
      "needs_background": "light"
     },
     "output_type": "display_data"
    }
   ],
   "source": [
    "data.boxplot(column=['id'])\n"
   ]
  },
  {
   "cell_type": "code",
   "execution_count": 12,
   "metadata": {},
   "outputs": [
    {
     "data": {
      "text/plain": [
       "<AxesSubplot:>"
      ]
     },
     "execution_count": 12,
     "metadata": {},
     "output_type": "execute_result"
    },
    {
     "data": {
      "image/png": "[encoded data removed]",
      "text/plain": [
       "<Figure size 432x288 with 1 Axes>"
      ]
     },
     "metadata": {
      "needs_background": "light"
     },
     "output_type": "display_data"
    }
   ],
   "source": [
    "data.boxplot(column=['Unnamed: 0'])\n"
   ]
  },
  {
   "cell_type": "code",
   "execution_count": 13,
   "metadata": {},
   "outputs": [
    {
     "data": {
      "text/plain": [
       "<AxesSubplot:>"
      ]
     },
     "execution_count": 13,
     "metadata": {},
     "output_type": "execute_result"
    },
    {
     "data": {
      "image/png": "[encoded data removed]",
      "text/plain": [
       "<Figure size 432x288 with 1 Axes>"
      ]
     },
     "metadata": {
      "needs_background": "light"
     },
     "output_type": "display_data"
    }
   ],
   "source": [
    "data.boxplot(column=['price'])"
   ]
  },
  {
   "cell_type": "code",
   "execution_count": 14,
   "metadata": {},
   "outputs": [
    {
     "data": {
      "text/plain": [
       "<AxesSubplot:>"
      ]
     },
     "execution_count": 14,
     "metadata": {},
     "output_type": "execute_result"
    },
    {
     "data": {
      "image/png": "[encoded data removed]",
      "text/plain": [
       "<Figure size 432x288 with 1 Axes>"
      ]
     },
     "metadata": {
      "needs_background": "light"
     },
     "output_type": "display_data"
    }
   ],
   "source": [
    "data.boxplot(column=['image_count'])\n"
   ]
  },
  {
   "cell_type": "code",
   "execution_count": 15,
   "metadata": {},
   "outputs": [
    {
     "data": {
      "text/plain": [
       "<AxesSubplot:>"
      ]
     },
     "execution_count": 15,
     "metadata": {},
     "output_type": "execute_result"
    },
    {
     "data": {
      "image/png": "[encoded data removed]",
      "text/plain": [
       "<Figure size 432x288 with 1 Axes>"
      ]
     },
     "metadata": {
      "needs_background": "light"
     },
     "output_type": "display_data"
    }
   ],
   "source": [
    "data.boxplot(column=['mileage'])\n"
   ]
  },
  {
   "cell_type": "markdown",
   "metadata": {},
   "source": [
    "![green-divider](https://user-images.githubusercontent.com/7065401/52071924-c003ad80-2562-11e9-8297-1c6595f8a7ff.png)\n",
    "**outliers data**\n",
    "\n",
    "To show the  outliers data, we calculate IQR for each column, which is as follows."
   ]
  },
  {
   "cell_type": "code",
   "execution_count": 16,
   "metadata": {},
   "outputs": [],
   "source": [
    "# outliers > 1.5*(Q3-Q1) | outliers > 1.5*(Q3-Q1)\n",
    "dmile=data['mileage'].dropna()\n",
    "# np.percentile(d, 75)+1.5*(np.percentile(d, 75)-np.percentile(d, 25))\n",
    "outliers_id=np.percentile(data['id'], 75)+1.5*(np.percentile(data['id'], 75)-np.percentile(data['id'], 25))\n",
    "outliers_idB=np.percentile(data['id'], 25)-1.5*(np.percentile(data['id'], 75)-np.percentile(data['id'], 25))\n",
    "outliers_price=np.percentile(data['price'], 75)+1.5*(np.percentile(data['price'], 75)-np.percentile(data['price'], 25))\n",
    "outliers_priceB=np.percentile(data['price'], 25)-1.5*(np.percentile(data['price'], 75)-np.percentile(data['price'], 25))\n",
    "outliers_image_count=np.percentile(data['image_count'], 75)+1.5*(np.percentile(data['image_count'], 75)-np.percentile(data['image_count'], 25))\n",
    "outliers_image_countB=np.percentile(data['image_count'], 25)-1.5*(np.percentile(data['image_count'], 75)-np.percentile(data['image_count'], 25))\n",
    "outliers_mileage=np.percentile(dmile, 75)+1.5*(np.percentile(dmile, 75)-np.percentile(dmile, 25))\n",
    "outliers_mileageB=np.percentile(dmile, 25)-1.5*(np.percentile(dmile, 75)-np.percentile(dmile, 25))\n",
    "outliers_Unnamed=np.percentile(data['Unnamed: 0'], 75)+1.5*(np.percentile(data['Unnamed: 0'], 75)-np.percentile(data['Unnamed: 0'], 25))\n",
    "outliers_UnnamedB=np.percentile(data['Unnamed: 0'], 25)-1.5*(np.percentile(data['Unnamed: 0'], 75)-np.percentile(data['Unnamed: 0'], 25))\n"
   ]
  },
  {
   "cell_type": "code",
   "execution_count": 17,
   "metadata": {},
   "outputs": [],
   "source": [
    "# we calculat mode for each column\n",
    "from scipy.stats import mode\n",
    "Unnamed_arr=data['Unnamed: 0'].values\n",
    "id_arr=data['id'].values\n",
    "image_count_arr=data['image_count'].values\n",
    "mileage_arr=data['mileage'].values\n",
    "price_arr=data['price'].values\n",
    "mode_info_of_unnamed=mode(Unnamed_arr)\n",
    "mode_info_of_id=mode(id_arr)\n",
    "mode_info_of_image_count=mode(image_count_arr)\n",
    "mode_info_of_mileage=mode(mileage_arr)\n",
    "mode_info_of_price=mode(price_arr)"
   ]
  },
  {
   "cell_type": "markdown",
   "metadata": {},
   "source": [
    "![green-divider](https://user-images.githubusercontent.com/7065401/52071924-c003ad80-2562-11e9-8297-1c6595f8a7ff.png)\n",
    "**Q1**\n",
    "\n",
    "We created a data frame for the required description table in question number one of the project."
   ]
  },
  {
   "cell_type": "code",
   "execution_count": 18,
   "metadata": {},
   "outputs": [],
   "source": [
    "decribe_data_table = pd.DataFrame({\n",
    "    \n",
    "    'name':['id','price','image_count','mileage','Unnamed'],\n",
    "    \n",
    "    'min':[data['id'].min(),data['price'].min(),data['image_count'].min(),data['mileage'].min(),data['Unnamed: 0'].min()],\n",
    "    \n",
    "    'max':[data['id'].max(),data['price'].max(),data['image_count'].max(),data['mileage'].max(),data['Unnamed: 0'].max()],\n",
    "    \n",
    "    'mean':[data['id'].mean(),data['price'].mean(),data['image_count'].mean(),data['mileage'].mean(),data['Unnamed: 0'].mean()],\n",
    "    \n",
    "    'median':[data['id'].median(),data['price'].median(),data['image_count'].median(),\n",
    "             data['mileage'].median(),data['Unnamed: 0'].median()],\n",
    "    \n",
    "    'mode':[mode_info_of_id[0],mode_info_of_price[0],mode_info_of_image_count[0], mode_info_of_mileage[0],mode_info_of_unnamed[0]],\n",
    "    \n",
    "    'outliers':[\n",
    "                   [data['id'][data['id']>outliers_id]]+[data['id'][data['id']<outliers_idB]],\n",
    "                   [data['price'][data['price']>outliers_price]]+[data['price'][data['price']<outliers_priceB]],\n",
    "                   [data['image_count'][data['image_count']>outliers_image_count]]+[data['image_count'][data['image_count']<outliers_image_countB]],\n",
    "                   [data['mileage'][data['mileage']>outliers_mileage]]+[data['mileage'][data['mileage']<outliers_mileageB]],\n",
    "                   [data['Unnamed: 0'][data['Unnamed: 0']>outliers_Unnamed]]+[data['Unnamed: 0'][data['Unnamed: 0']<outliers_UnnamedB]]\n",
    "    ],\n",
    "    'type':[data['id'].dtype,data['price'].dtype,data['image_count'].dtype,data['mileage'].dtype,data['Unnamed: 0'].dtype],\n",
    "    \n",
    "    'range':['[0,+infinite)','[0,+infinite)','[0,16]','[0,500000]','[0,+infinite]']\n",
    "                    \n",
    "}, columns=['name','min','max','mean','median','mode','outliers','range','type'])"
   ]
  },
  {
   "cell_type": "code",
   "execution_count": 19,
   "metadata": {
    "scrolled": true
   },
   "outputs": [
    {
     "data": {
      "text/html": [
       "<div>\n",
       "<style scoped>\n",
       "    .dataframe tbody tr th:only-of-type {\n",
       "        vertical-align: middle;\n",
       "    }\n",
       "\n",
       "    .dataframe tbody tr th {\n",
       "        vertical-align: top;\n",
       "    }\n",
       "\n",
       "    .dataframe thead th {\n",
       "        text-align: right;\n",
       "    }\n",
       "</style>\n",
       "<table border=\"1\" class=\"dataframe\">\n",
       "  <thead>\n",
       "    <tr style=\"text-align: right;\">\n",
       "      <th></th>\n",
       "      <th>name</th>\n",
       "      <th>min</th>\n",
       "      <th>max</th>\n",
       "      <th>mean</th>\n",
       "      <th>median</th>\n",
       "      <th>mode</th>\n",
       "      <th>outliers</th>\n",
       "      <th>range</th>\n",
       "      <th>type</th>\n",
       "    </tr>\n",
       "  </thead>\n",
       "  <tbody>\n",
       "    <tr>\n",
       "      <th>0</th>\n",
       "      <td>id</td>\n",
       "      <td>59505527.0</td>\n",
       "      <td>6.728036e+13</td>\n",
       "      <td>3.363293e+13</td>\n",
       "      <td>3.362242e+13</td>\n",
       "      <td>[59505527]</td>\n",
       "      <td>[[], []]</td>\n",
       "      <td>[0,+infinite)</td>\n",
       "      <td>int64</td>\n",
       "    </tr>\n",
       "    <tr>\n",
       "      <th>1</th>\n",
       "      <td>price</td>\n",
       "      <td>-1.0</td>\n",
       "      <td>4.000000e+08</td>\n",
       "      <td>3.398462e+06</td>\n",
       "      <td>1.500000e+05</td>\n",
       "      <td>[-1]</td>\n",
       "      <td>[[3850000, 8500000, 19500000, 23900000, 850000...</td>\n",
       "      <td>[0,+infinite)</td>\n",
       "      <td>int64</td>\n",
       "    </tr>\n",
       "    <tr>\n",
       "      <th>2</th>\n",
       "      <td>image_count</td>\n",
       "      <td>0.0</td>\n",
       "      <td>1.600000e+01</td>\n",
       "      <td>1.785852e+00</td>\n",
       "      <td>2.000000e+00</td>\n",
       "      <td>[1]</td>\n",
       "      <td>[[5, 4, 4, 4, 4, 4, 4, 4, 5, 4, 4, 4, 4, 5, 4,...</td>\n",
       "      <td>[0,16]</td>\n",
       "      <td>int64</td>\n",
       "    </tr>\n",
       "    <tr>\n",
       "      <th>3</th>\n",
       "      <td>mileage</td>\n",
       "      <td>0.0</td>\n",
       "      <td>5.000000e+05</td>\n",
       "      <td>1.008623e+05</td>\n",
       "      <td>7.500000e+04</td>\n",
       "      <td>[200000.0]</td>\n",
       "      <td>[[450000.0, 440000.0, 380000.0, 400000.0, 3800...</td>\n",
       "      <td>[0,500000]</td>\n",
       "      <td>float64</td>\n",
       "    </tr>\n",
       "    <tr>\n",
       "      <th>4</th>\n",
       "      <td>Unnamed</td>\n",
       "      <td>0.0</td>\n",
       "      <td>9.476340e+05</td>\n",
       "      <td>4.738170e+05</td>\n",
       "      <td>4.738170e+05</td>\n",
       "      <td>[0]</td>\n",
       "      <td>[[], []]</td>\n",
       "      <td>[0,+infinite]</td>\n",
       "      <td>int64</td>\n",
       "    </tr>\n",
       "  </tbody>\n",
       "</table>\n",
       "</div>"
      ],
      "text/plain": [
       "          name         min           max          mean        median  \\\n",
       "0           id  59505527.0  6.728036e+13  3.363293e+13  3.362242e+13   \n",
       "1        price        -1.0  4.000000e+08  3.398462e+06  1.500000e+05   \n",
       "2  image_count         0.0  1.600000e+01  1.785852e+00  2.000000e+00   \n",
       "3      mileage         0.0  5.000000e+05  1.008623e+05  7.500000e+04   \n",
       "4      Unnamed         0.0  9.476340e+05  4.738170e+05  4.738170e+05   \n",
       "\n",
       "         mode                                           outliers  \\\n",
       "0  [59505527]                                           [[], []]   \n",
       "1        [-1]  [[3850000, 8500000, 19500000, 23900000, 850000...   \n",
       "2         [1]  [[5, 4, 4, 4, 4, 4, 4, 4, 5, 4, 4, 4, 4, 5, 4,...   \n",
       "3  [200000.0]  [[450000.0, 440000.0, 380000.0, 400000.0, 3800...   \n",
       "4         [0]                                           [[], []]   \n",
       "\n",
       "           range     type  \n",
       "0  [0,+infinite)    int64  \n",
       "1  [0,+infinite)    int64  \n",
       "2         [0,16]    int64  \n",
       "3     [0,500000]  float64  \n",
       "4  [0,+infinite]    int64  "
      ]
     },
     "execution_count": 19,
     "metadata": {},
     "output_type": "execute_result"
    }
   ],
   "source": [
    "decribe_data_table"
   ]
  },
  {
   "cell_type": "code",
   "execution_count": 20,
   "metadata": {},
   "outputs": [
    {
     "data": {
      "text/plain": [
       "<AxesSubplot:ylabel='cat1'>"
      ]
     },
     "execution_count": 20,
     "metadata": {},
     "output_type": "execute_result"
    },
    {
     "data": {
      "image/png": "[encoded data removed]",
      "text/plain": [
       "<Figure size 432x288 with 1 Axes>"
      ]
     },
     "metadata": {},
     "output_type": "display_data"
    }
   ],
   "source": [
    "data['cat1'].value_counts().plot(kind='pie')  \n",
    "#  data['city'].value_counts().plot(kind='pie')"
   ]
  },
  {
   "cell_type": "markdown",
   "metadata": {},
   "source": [
    "![green-divider](https://user-images.githubusercontent.com/7065401/52071924-c003ad80-2562-11e9-8297-1c6595f8a7ff.png)\n",
    "**data cleaning :**\n",
    "\n",
    "missing value , duplicated value , ..."
   ]
  },
  {
   "cell_type": "code",
   "execution_count": 21,
   "metadata": {},
   "outputs": [
    {
     "data": {
      "text/plain": [
       "Unnamed: 0              0\n",
       "archive_by_user         0\n",
       "brand              756743\n",
       "cat1                    0\n",
       "cat2                 1758\n",
       "cat3               172334\n",
       "city                    0\n",
       "created_at              0\n",
       "desc                    0\n",
       "id                      0\n",
       "image_count             0\n",
       "mileage            827184\n",
       "platform                0\n",
       "price                   0\n",
       "title                   0\n",
       "type               849106\n",
       "year               827184\n",
       "dtype: int64"
      ]
     },
     "execution_count": 21,
     "metadata": {},
     "output_type": "execute_result"
    }
   ],
   "source": [
    "# missing value\n",
    "pd.isnull(data).sum()\n",
    "# data.fillna(-1)"
   ]
  },
  {
   "cell_type": "code",
   "execution_count": 22,
   "metadata": {},
   "outputs": [],
   "source": [
    "# duplicated value\n",
    "\n",
    "# data.drop_duplicates()"
   ]
  },
  {
   "cell_type": "markdown",
   "metadata": {},
   "source": [
    "![green-divider](https://user-images.githubusercontent.com/7065401/52071924-c003ad80-2562-11e9-8297-1c6595f8a7ff.png)\n",
    "**Q2**\n",
    "**validation**\n",
    "\n",
    "**TITLE** :\n",
    "    Title must have at least 3 chars.\t  <font color='green'>Solution</font> : using char count from String library.\n",
    "\n",
    "\t\n",
    "    \n",
    "**CITY** :\n",
    "Creating a list of valid cities and check if the city attribute matches any cities of our list\n",
    "\n",
    "**TIME** :\n",
    "Creating a list of week days and compare to see if week day attribute matches any of our list.\n",
    "Time format should be between 1-12 + AM/PM.\n",
    "\n",
    "**PRICE** :\n",
    "Price value can’t be < 0.  <font color='green'>Solution</font> : using a simple if statement\n",
    "\n",
    "**YEAR** :\n",
    "\tYear can’t be < 1950.     Title must have at least 3 chars.\t  <font color='green'>Solution</font> : using char count from String library.\n",
    ": using a simple if statement\n",
    "\tYear can’t be a negative value.  <font color='green'>Solution</font> : using a simple if statement\n",
    "\tYear can’t be > current year.  <font color='green'>Solution</font> : get current year using Time library + comparing both   Values.\n",
    "\n",
    "**DESCRIPTION** :\n",
    "Description can’t be in any language but Persian.  <font color='green'>Solution</font> : Used chars Unicode values should be in range of Persian Unicode \n",
    "\n",
    "**values** :\n",
    "\tDescription can’t be less than 10 chars.  <font color='green'>Solution</font> : char count\n",
    "    \n",
    "**IMAGE COUNT** :\n",
    "\tImage count value can’t be less than zero.  <font color='green'>Solution</font> : using a simple if statement\n",
    "\t\n",
    "**ID** :\n",
    "\tId must be a 14 digit integer.  <font color='green'>Solution</font> : using a simple if statement\n",
    "\tId can’t be less than zero.  <font color='green'>Solution</font> : using a simple if statement\n",
    "    \n",
    "**MILEAGE** :\n",
    "\tMileage value must be NaN or None for all non-vehicle products.  <font color='green'>Solution</font> : using a simple if statement\n",
    "\tAll vehicle product must have a mileage value.  <font color='green'>Solution</font> : using a simple if statement\n",
    "\tMileage can’t be less than zero.  <font color='green'>Solution</font> : using a simple if statement\n",
    "\n",
    "\n",
    "\n"
   ]
  },
  {
   "cell_type": "markdown",
   "metadata": {},
   "source": [
    "![green-divider](https://user-images.githubusercontent.com/7065401/52071924-c003ad80-2562-11e9-8297-1c6595f8a7ff.png)\n",
    "**Q3**\n",
    "**accuracy**\n",
    "\n",
    "To measure the grammatical accuracy of the data, we can compare all attribute values with the domain that we manually enter for each attribute. And to measure the semantic accuracy of the data, compare all the data with different data and discover the errors, or manually correct part of the data and compare it with the rest of the data that has not been corrected yet.\n",
    "\n",
    "We can slso examine the columns that are related and correlated with each other and compare their data, and if there is a discrepancy that violates the correlation, we will find incorrect and inaccurate data. \n"
   ]
  },
  {
   "cell_type": "code",
   "execution_count": 23,
   "metadata": {},
   "outputs": [
    {
     "data": {
      "text/html": [
       "<div>\n",
       "<style scoped>\n",
       "    .dataframe tbody tr th:only-of-type {\n",
       "        vertical-align: middle;\n",
       "    }\n",
       "\n",
       "    .dataframe tbody tr th {\n",
       "        vertical-align: top;\n",
       "    }\n",
       "\n",
       "    .dataframe thead th {\n",
       "        text-align: right;\n",
       "    }\n",
       "</style>\n",
       "<table border=\"1\" class=\"dataframe\">\n",
       "  <thead>\n",
       "    <tr style=\"text-align: right;\">\n",
       "      <th></th>\n",
       "      <th>Unnamed: 0</th>\n",
       "      <th>archive_by_user</th>\n",
       "      <th>id</th>\n",
       "      <th>image_count</th>\n",
       "      <th>mileage</th>\n",
       "      <th>price</th>\n",
       "    </tr>\n",
       "  </thead>\n",
       "  <tbody>\n",
       "    <tr>\n",
       "      <th>Unnamed: 0</th>\n",
       "      <td>1.000000</td>\n",
       "      <td>0.000735</td>\n",
       "      <td>-0.002399</td>\n",
       "      <td>0.000745</td>\n",
       "      <td>0.000414</td>\n",
       "      <td>-0.000571</td>\n",
       "    </tr>\n",
       "    <tr>\n",
       "      <th>archive_by_user</th>\n",
       "      <td>0.000735</td>\n",
       "      <td>1.000000</td>\n",
       "      <td>0.000547</td>\n",
       "      <td>0.039529</td>\n",
       "      <td>-0.066126</td>\n",
       "      <td>0.002919</td>\n",
       "    </tr>\n",
       "    <tr>\n",
       "      <th>id</th>\n",
       "      <td>-0.002399</td>\n",
       "      <td>0.000547</td>\n",
       "      <td>1.000000</td>\n",
       "      <td>-0.000338</td>\n",
       "      <td>0.002110</td>\n",
       "      <td>-0.001036</td>\n",
       "    </tr>\n",
       "    <tr>\n",
       "      <th>image_count</th>\n",
       "      <td>0.000745</td>\n",
       "      <td>0.039529</td>\n",
       "      <td>-0.000338</td>\n",
       "      <td>1.000000</td>\n",
       "      <td>0.065899</td>\n",
       "      <td>0.031879</td>\n",
       "    </tr>\n",
       "    <tr>\n",
       "      <th>mileage</th>\n",
       "      <td>0.000414</td>\n",
       "      <td>-0.066126</td>\n",
       "      <td>0.002110</td>\n",
       "      <td>0.065899</td>\n",
       "      <td>1.000000</td>\n",
       "      <td>-0.152146</td>\n",
       "    </tr>\n",
       "    <tr>\n",
       "      <th>price</th>\n",
       "      <td>-0.000571</td>\n",
       "      <td>0.002919</td>\n",
       "      <td>-0.001036</td>\n",
       "      <td>0.031879</td>\n",
       "      <td>-0.152146</td>\n",
       "      <td>1.000000</td>\n",
       "    </tr>\n",
       "  </tbody>\n",
       "</table>\n",
       "</div>"
      ],
      "text/plain": [
       "                 Unnamed: 0  archive_by_user        id  image_count   mileage  \\\n",
       "Unnamed: 0         1.000000         0.000735 -0.002399     0.000745  0.000414   \n",
       "archive_by_user    0.000735         1.000000  0.000547     0.039529 -0.066126   \n",
       "id                -0.002399         0.000547  1.000000    -0.000338  0.002110   \n",
       "image_count        0.000745         0.039529 -0.000338     1.000000  0.065899   \n",
       "mileage            0.000414        -0.066126  0.002110     0.065899  1.000000   \n",
       "price             -0.000571         0.002919 -0.001036     0.031879 -0.152146   \n",
       "\n",
       "                    price  \n",
       "Unnamed: 0      -0.000571  \n",
       "archive_by_user  0.002919  \n",
       "id              -0.001036  \n",
       "image_count      0.031879  \n",
       "mileage         -0.152146  \n",
       "price            1.000000  "
      ]
     },
     "execution_count": 23,
     "metadata": {},
     "output_type": "execute_result"
    }
   ],
   "source": [
    "data.corr(method='pearson', min_periods=1)"
   ]
  },
  {
   "cell_type": "markdown",
   "metadata": {},
   "source": [
    "For example, in the table above, the negative correlation of maileage and price indicates that with more maileage, the price decreases and vice versa! If this relationship is not established and, for example, the price increases with the increase of mileage, there is a possibility of a mistake."
   ]
  },
  {
   "cell_type": "markdown",
   "metadata": {},
   "source": [
    "![green-divider](https://user-images.githubusercontent.com/7065401/52071924-c003ad80-2562-11e9-8297-1c6595f8a7ff.png)\n",
    "\n",
    "**Q4 Completeness**\n",
    "\n",
    "Measurement Function A/B \n",
    "\n",
    "*1:*\n",
    "\n",
    "A: records with no missing attribute\n",
    "\n",
    "B: Total records in a dataset\n",
    "\n",
    "*2:*\n",
    "\n",
    "A: number of data required for the particular context in the data file\n",
    "\n",
    "B: number of data in the specified particular context of intended use\n",
    "\n",
    "*3:*\n",
    "\n",
    "A: attribute fields containing values \n",
    "\n",
    "B: records × attributes\n"
   ]
  },
  {
   "cell_type": "code",
   "execution_count": 24,
   "metadata": {},
   "outputs": [
    {
     "data": {
      "text/plain": [
       "0.0"
      ]
     },
     "execution_count": 24,
     "metadata": {},
     "output_type": "execute_result"
    }
   ],
   "source": [
    "# 1\n",
    "A=data.dropna(axis=0).shape[0]\n",
    "B=data['Unnamed: 0'].count()\n",
    "A/B"
   ]
  },
  {
   "cell_type": "code",
   "execution_count": 25,
   "metadata": {},
   "outputs": [
    {
     "data": {
      "text/plain": [
       "0.10397357632421765"
      ]
     },
     "execution_count": 25,
     "metadata": {},
     "output_type": "execute_result"
    }
   ],
   "source": [
    "# 2.1\n",
    "\n",
    "data_c=data.drop(columns=['cat3','cat2','cat1','year','archive_by_user','brand','mileage'])\n",
    "A=data_c.dropna(axis=0).shape[0]\n",
    "B=data_c['Unnamed: 0'].count()\n",
    "A/B"
   ]
  },
  {
   "cell_type": "code",
   "execution_count": 26,
   "metadata": {},
   "outputs": [
    {
     "data": {
      "text/plain": [
       "0.9103973576324218"
      ]
     },
     "execution_count": 26,
     "metadata": {},
     "output_type": "execute_result"
    }
   ],
   "source": [
    "# 2.3\n",
    "\n",
    "A=data_c[data.notnull()].count().sum()\n",
    "B=data_c['Unnamed: 0'].count()*10\n",
    "A/B"
   ]
  },
  {
   "cell_type": "code",
   "execution_count": 27,
   "metadata": {
    "scrolled": false
   },
   "outputs": [
    {
     "data": {
      "text/plain": [
       "0.7868185783866275"
      ]
     },
     "execution_count": 27,
     "metadata": {},
     "output_type": "execute_result"
    }
   ],
   "source": [
    "# 3\n",
    "A=data[data.notnull()].count().sum()\n",
    "B=data['Unnamed: 0'].count()*17\n",
    "A/B"
   ]
  },
  {
   "cell_type": "markdown",
   "metadata": {},
   "source": [
    "![green-divider](https://user-images.githubusercontent.com/7065401/52071924-c003ad80-2562-11e9-8297-1c6595f8a7ff.png)\n",
    "**Q5**\n",
    "\n",
    "\n",
    "product price prediction in the coming years\n",
    "\n",
    "popular product prediction in the coming years\n",
    "\n",
    "Popular product in different cities\n",
    "\n",
    "Estimate the needs of the people of a city for a particular product\n",
    "\n",
    "Price relationship with popular product\n",
    "\n",
    "Price relationship with the city\n",
    "\n",
    "The relationship between photos and popularity\n",
    "\n",
    "The relationship between buying products in different cities and the relationship between selling posts in different cities\n"
   ]
  },
  {
   "cell_type": "markdown",
   "metadata": {},
   "source": [
    "![green-divider](https://user-images.githubusercontent.com/7065401/52071924-c003ad80-2562-11e9-8297-1c6595f8a7ff.png)\n",
    "## Exercise #1#2\n"
   ]
  },
  {
   "cell_type": "code",
   "execution_count": 28,
   "metadata": {},
   "outputs": [
    {
     "data": {
      "text/html": [
       "<div>\n",
       "<style scoped>\n",
       "    .dataframe tbody tr th:only-of-type {\n",
       "        vertical-align: middle;\n",
       "    }\n",
       "\n",
       "    .dataframe tbody tr th {\n",
       "        vertical-align: top;\n",
       "    }\n",
       "\n",
       "    .dataframe thead th {\n",
       "        text-align: right;\n",
       "    }\n",
       "</style>\n",
       "<table border=\"1\" class=\"dataframe\">\n",
       "  <thead>\n",
       "    <tr style=\"text-align: right;\">\n",
       "      <th></th>\n",
       "      <th>City name</th>\n",
       "      <th>Population</th>\n",
       "      <th>Area square miles</th>\n",
       "    </tr>\n",
       "  </thead>\n",
       "  <tbody>\n",
       "    <tr>\n",
       "      <th>0</th>\n",
       "      <td>San Francisco</td>\n",
       "      <td>852469</td>\n",
       "      <td>46.87</td>\n",
       "    </tr>\n",
       "    <tr>\n",
       "      <th>1</th>\n",
       "      <td>San Jose</td>\n",
       "      <td>1015785</td>\n",
       "      <td>176.53</td>\n",
       "    </tr>\n",
       "    <tr>\n",
       "      <th>2</th>\n",
       "      <td>Sacramento</td>\n",
       "      <td>485199</td>\n",
       "      <td>97.92</td>\n",
       "    </tr>\n",
       "  </tbody>\n",
       "</table>\n",
       "</div>"
      ],
      "text/plain": [
       "       City name  Population  Area square miles\n",
       "0  San Francisco      852469              46.87\n",
       "1       San Jose     1015785             176.53\n",
       "2     Sacramento      485199              97.92"
      ]
     },
     "execution_count": 28,
     "metadata": {},
     "output_type": "execute_result"
    }
   ],
   "source": [
    "city_names = pd.Series(['San Francisco', 'San Jose', 'Sacramento'])\n",
    "population = pd.Series([852469, 1015785, 485199])\n",
    "cities=pd.DataFrame({ 'City name': city_names, 'Population': population })\n",
    "cities['Area square miles'] = pd.Series([46.87, 176.53, 97.92])\n",
    "cities\n"
   ]
  },
  {
   "cell_type": "code",
   "execution_count": 29,
   "metadata": {},
   "outputs": [
    {
     "data": {
      "text/html": [
       "<div>\n",
       "<style scoped>\n",
       "    .dataframe tbody tr th:only-of-type {\n",
       "        vertical-align: middle;\n",
       "    }\n",
       "\n",
       "    .dataframe tbody tr th {\n",
       "        vertical-align: top;\n",
       "    }\n",
       "\n",
       "    .dataframe thead th {\n",
       "        text-align: right;\n",
       "    }\n",
       "</style>\n",
       "<table border=\"1\" class=\"dataframe\">\n",
       "  <thead>\n",
       "    <tr style=\"text-align: right;\">\n",
       "      <th></th>\n",
       "      <th>City name</th>\n",
       "      <th>Population</th>\n",
       "      <th>Area square miles</th>\n",
       "      <th>Is wide and has saint name</th>\n",
       "    </tr>\n",
       "  </thead>\n",
       "  <tbody>\n",
       "    <tr>\n",
       "      <th>0</th>\n",
       "      <td>San Francisco</td>\n",
       "      <td>852469</td>\n",
       "      <td>46.87</td>\n",
       "      <td>False</td>\n",
       "    </tr>\n",
       "    <tr>\n",
       "      <th>1</th>\n",
       "      <td>San Jose</td>\n",
       "      <td>1015785</td>\n",
       "      <td>176.53</td>\n",
       "      <td>True</td>\n",
       "    </tr>\n",
       "    <tr>\n",
       "      <th>2</th>\n",
       "      <td>Sacramento</td>\n",
       "      <td>485199</td>\n",
       "      <td>97.92</td>\n",
       "      <td>False</td>\n",
       "    </tr>\n",
       "  </tbody>\n",
       "</table>\n",
       "</div>"
      ],
      "text/plain": [
       "       City name  Population  Area square miles  Is wide and has saint name\n",
       "0  San Francisco      852469              46.87                       False\n",
       "1       San Jose     1015785             176.53                        True\n",
       "2     Sacramento      485199              97.92                       False"
      ]
     },
     "execution_count": 29,
     "metadata": {},
     "output_type": "execute_result"
    }
   ],
   "source": [
    "cities['Is wide and has saint name'] = (cities['Area square miles'] > 50) & cities['City name'].apply(lambda name: name.startswith('San'))\n",
    "cities"
   ]
  },
  {
   "cell_type": "code",
   "execution_count": 30,
   "metadata": {},
   "outputs": [
    {
     "data": {
      "text/html": [
       "<div>\n",
       "<style scoped>\n",
       "    .dataframe tbody tr th:only-of-type {\n",
       "        vertical-align: middle;\n",
       "    }\n",
       "\n",
       "    .dataframe tbody tr th {\n",
       "        vertical-align: top;\n",
       "    }\n",
       "\n",
       "    .dataframe thead th {\n",
       "        text-align: right;\n",
       "    }\n",
       "</style>\n",
       "<table border=\"1\" class=\"dataframe\">\n",
       "  <thead>\n",
       "    <tr style=\"text-align: right;\">\n",
       "      <th></th>\n",
       "      <th>City name</th>\n",
       "      <th>Population</th>\n",
       "      <th>Area square miles</th>\n",
       "      <th>Is wide and has saint name</th>\n",
       "    </tr>\n",
       "  </thead>\n",
       "  <tbody>\n",
       "    <tr>\n",
       "      <th>0</th>\n",
       "      <td>San Francisco</td>\n",
       "      <td>852469.0</td>\n",
       "      <td>46.87</td>\n",
       "      <td>False</td>\n",
       "    </tr>\n",
       "    <tr>\n",
       "      <th>4</th>\n",
       "      <td>NaN</td>\n",
       "      <td>NaN</td>\n",
       "      <td>NaN</td>\n",
       "      <td>NaN</td>\n",
       "    </tr>\n",
       "    <tr>\n",
       "      <th>5</th>\n",
       "      <td>NaN</td>\n",
       "      <td>NaN</td>\n",
       "      <td>NaN</td>\n",
       "      <td>NaN</td>\n",
       "    </tr>\n",
       "    <tr>\n",
       "      <th>2</th>\n",
       "      <td>Sacramento</td>\n",
       "      <td>485199.0</td>\n",
       "      <td>97.92</td>\n",
       "      <td>False</td>\n",
       "    </tr>\n",
       "  </tbody>\n",
       "</table>\n",
       "</div>"
      ],
      "text/plain": [
       "       City name  Population  Area square miles Is wide and has saint name\n",
       "0  San Francisco    852469.0              46.87                      False\n",
       "4            NaN         NaN                NaN                        NaN\n",
       "5            NaN         NaN                NaN                        NaN\n",
       "2     Sacramento    485199.0              97.92                      False"
      ]
     },
     "execution_count": 30,
     "metadata": {},
     "output_type": "execute_result"
    }
   ],
   "source": [
    "cities.reindex([0, 4, 5, 2])"
   ]
  },
  {
   "cell_type": "code",
   "execution_count": null,
   "metadata": {},
   "outputs": [],
   "source": []
  },
  {
   "cell_type": "code",
   "execution_count": null,
   "metadata": {},
   "outputs": [],
   "source": []
  }
 ],
 "metadata": {
  "kernelspec": {
   "display_name": "Python 3",
   "language": "python",
   "name": "python3"
  },
  "language_info": {
   "codemirror_mode": {
    "name": "ipython",
    "version": 3
   },
   "file_extension": ".py",
   "mimetype": "text/x-python",
   "name": "python",
   "nbconvert_exporter": "python",
   "pygments_lexer": "ipython3",
   "version": "3.8.4"
  }
 },
 "nbformat": 4,
 "nbformat_minor": 4
}
